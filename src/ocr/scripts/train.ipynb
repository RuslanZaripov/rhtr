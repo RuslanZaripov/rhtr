{
 "metadata": {
  "kernelspec": {
   "language": "python",
   "display_name": "Python 3",
   "name": "python3"
  },
  "language_info": {
   "name": "python",
   "version": "3.10.13",
   "mimetype": "text/x-python",
   "codemirror_mode": {
    "name": "ipython",
    "version": 3
   },
   "pygments_lexer": "ipython3",
   "nbconvert_exporter": "python",
   "file_extension": ".py"
  },
  "kaggle": {
   "accelerator": "nvidiaTeslaT4",
   "dataSources": [],
   "dockerImageVersionId": 30715,
   "isInternetEnabled": true,
   "language": "python",
   "sourceType": "notebook",
   "isGpuEnabled": true
  }
 },
 "nbformat_minor": 4,
 "nbformat": 4,
 "cells": [
  {
   "cell_type": "code",
   "source": [
    "%load_ext autoreload\n",
    "%autoreload 2"
   ],
   "metadata": {
    "execution": {
     "iopub.status.busy": "2024-05-31T11:38:06.030284Z",
     "iopub.execute_input": "2024-05-31T11:38:06.031457Z",
     "iopub.status.idle": "2024-05-31T11:38:06.073076Z",
     "shell.execute_reply.started": "2024-05-31T11:38:06.031367Z",
     "shell.execute_reply": "2024-05-31T11:38:06.071836Z"
    },
    "trusted": true
   },
   "execution_count": 1,
   "outputs": []
  },
  {
   "cell_type": "code",
   "source": [
    "!git clone https://github.com/RuslanZaripov/rhtr.git"
   ],
   "metadata": {
    "_uuid": "8f2839f25d086af736a60e9eeb907d3b93b6e0e5",
    "_cell_guid": "b1076dfc-b9ad-4769-8c92-a6c4dae69d19",
    "execution": {
     "iopub.status.busy": "2024-05-31T11:38:06.075255Z",
     "iopub.execute_input": "2024-05-31T11:38:06.076184Z",
     "iopub.status.idle": "2024-05-31T11:38:11.955184Z",
     "shell.execute_reply.started": "2024-05-31T11:38:06.076153Z",
     "shell.execute_reply": "2024-05-31T11:38:11.954048Z"
    },
    "trusted": true
   },
   "execution_count": 2,
   "outputs": [
    {
     "name": "stdout",
     "text": "Cloning into 'rhtr'...\nremote: Enumerating objects: 861, done.\u001B[K\nremote: Counting objects: 100% (29/29), done.\u001B[K\nremote: Compressing objects: 100% (22/22), done.\u001B[K\nremote: Total 861 (delta 8), reused 20 (delta 7), pack-reused 832\u001B[K\nReceiving objects: 100% (861/861), 102.57 MiB | 33.91 MiB/s, done.\nResolving deltas: 100% (559/559), done.\n",
     "output_type": "stream"
    }
   ]
  },
  {
   "cell_type": "code",
   "source": [
    "!git pull"
   ],
   "metadata": {
    "execution": {
     "iopub.status.busy": "2024-05-31T11:38:11.956876Z",
     "iopub.execute_input": "2024-05-31T11:38:11.957279Z",
     "iopub.status.idle": "2024-05-31T11:38:12.980655Z",
     "shell.execute_reply.started": "2024-05-31T11:38:11.957248Z",
     "shell.execute_reply": "2024-05-31T11:38:12.979390Z"
    },
    "trusted": true
   },
   "execution_count": 3,
   "outputs": [
    {
     "name": "stdout",
     "text": "fatal: not a git repository (or any parent up to mount point /kaggle)\nStopping at filesystem boundary (GIT_DISCOVERY_ACROSS_FILESYSTEM not set).\n",
     "output_type": "stream"
    }
   ]
  },
  {
   "cell_type": "code",
   "source": [
    "%cd /kaggle/working/rhtr"
   ],
   "metadata": {
    "execution": {
     "iopub.status.busy": "2024-05-31T11:38:12.982371Z",
     "iopub.execute_input": "2024-05-31T11:38:12.982702Z",
     "iopub.status.idle": "2024-05-31T11:38:13.006064Z",
     "shell.execute_reply.started": "2024-05-31T11:38:12.982671Z",
     "shell.execute_reply": "2024-05-31T11:38:13.004980Z"
    },
    "trusted": true
   },
   "execution_count": 4,
   "outputs": [
    {
     "name": "stdout",
     "text": "/kaggle/working/rhtr\n",
     "output_type": "stream"
    }
   ]
  },
  {
   "cell_type": "code",
   "source": [
    "import os\n",
    "workdir = os.getcwd()\n",
    "workdir "
   ],
   "metadata": {
    "execution": {
     "iopub.status.busy": "2024-05-31T11:38:13.008752Z",
     "iopub.execute_input": "2024-05-31T11:38:13.009060Z",
     "iopub.status.idle": "2024-05-31T11:38:13.030252Z",
     "shell.execute_reply.started": "2024-05-31T11:38:13.009034Z",
     "shell.execute_reply": "2024-05-31T11:38:13.029303Z"
    },
    "trusted": true
   },
   "execution_count": 5,
   "outputs": [
    {
     "execution_count": 5,
     "output_type": "execute_result",
     "data": {
      "text/plain": "'/kaggle/working/rhtr'"
     },
     "metadata": {}
    }
   ]
  },
  {
   "cell_type": "code",
   "source": [
    "data_dir = f'{workdir}/data'\n",
    "data_dir"
   ],
   "metadata": {
    "execution": {
     "iopub.status.busy": "2024-05-31T11:38:13.031420Z",
     "iopub.execute_input": "2024-05-31T11:38:13.031769Z",
     "iopub.status.idle": "2024-05-31T11:38:13.051052Z",
     "shell.execute_reply.started": "2024-05-31T11:38:13.031737Z",
     "shell.execute_reply": "2024-05-31T11:38:13.050233Z"
    },
    "trusted": true
   },
   "execution_count": 6,
   "outputs": [
    {
     "execution_count": 6,
     "output_type": "execute_result",
     "data": {
      "text/plain": "'/kaggle/working/rhtr/data'"
     },
     "metadata": {}
    }
   ]
  },
  {
   "cell_type": "code",
   "source": [
    "raw_dir = f'{data_dir}/raw'\n",
    "raw_dir"
   ],
   "metadata": {
    "execution": {
     "iopub.status.busy": "2024-05-31T11:38:13.052264Z",
     "iopub.execute_input": "2024-05-31T11:38:13.052663Z",
     "iopub.status.idle": "2024-05-31T11:38:13.072000Z",
     "shell.execute_reply.started": "2024-05-31T11:38:13.052626Z",
     "shell.execute_reply": "2024-05-31T11:38:13.071107Z"
    },
    "trusted": true
   },
   "execution_count": 7,
   "outputs": [
    {
     "execution_count": 7,
     "output_type": "execute_result",
     "data": {
      "text/plain": "'/kaggle/working/rhtr/data/raw'"
     },
     "metadata": {}
    }
   ]
  },
  {
   "cell_type": "code",
   "source": [
    "!mkdir {data_dir}\n",
    "!mkdir {raw_dir}"
   ],
   "metadata": {
    "execution": {
     "iopub.status.busy": "2024-05-31T11:38:13.073207Z",
     "iopub.execute_input": "2024-05-31T11:38:13.073723Z",
     "iopub.status.idle": "2024-05-31T11:38:15.042988Z",
     "shell.execute_reply.started": "2024-05-31T11:38:13.073693Z",
     "shell.execute_reply": "2024-05-31T11:38:15.041690Z"
    },
    "trusted": true
   },
   "execution_count": 8,
   "outputs": []
  },
  {
   "cell_type": "markdown",
   "source": [
    "# Download Data To Process"
   ],
   "metadata": {}
  },
  {
   "cell_type": "code",
   "source": [
    "!kaggle datasets download -d constantinwerner/cyrillic-handwriting-dataset -p {raw_dir}"
   ],
   "metadata": {
    "execution": {
     "iopub.status.busy": "2024-05-31T11:38:18.671508Z",
     "iopub.execute_input": "2024-05-31T11:38:18.672542Z",
     "iopub.status.idle": "2024-05-31T11:38:31.241992Z",
     "shell.execute_reply.started": "2024-05-31T11:38:18.672489Z",
     "shell.execute_reply": "2024-05-31T11:38:31.241089Z"
    },
    "trusted": true
   },
   "execution_count": 9,
   "outputs": [
    {
     "name": "stdout",
     "text": "Dataset URL: https://www.kaggle.com/datasets/constantinwerner/cyrillic-handwriting-dataset\nLicense(s): CC0-1.0\nDownloading cyrillic-handwriting-dataset.zip to /kaggle/working/rhtr/data/raw\n 99%|██████████████████████████████████████▋| 1.50G/1.51G [00:10<00:00, 149MB/s]\n100%|███████████████████████████████████████| 1.51G/1.51G [00:10<00:00, 153MB/s]\n",
     "output_type": "stream"
    }
   ]
  },
  {
   "cell_type": "code",
   "source": [
    "!unzip /kaggle/working/rhtr/data/raw/cyrillic-handwriting-dataset.zip -d {raw_dir + '/Cyrillic_Handwriting'} > /dev/null"
   ],
   "metadata": {
    "execution": {
     "iopub.status.busy": "2024-05-31T11:38:31.855213Z",
     "iopub.execute_input": "2024-05-31T11:38:31.855602Z",
     "iopub.status.idle": "2024-05-31T11:38:50.616249Z",
     "shell.execute_reply.started": "2024-05-31T11:38:31.855572Z",
     "shell.execute_reply": "2024-05-31T11:38:50.615039Z"
    },
    "trusted": true
   },
   "execution_count": 10,
   "outputs": []
  },
  {
   "cell_type": "code",
   "source": [
    "%%writefile {workdir + \"/src/ocr/scripts/htr_config.yaml\"}\n",
    "save_dir: 'data/experiments/Cyrillic_Handwriting_CRNN'\n",
    "dataset_root: 'data/raw/Cyrillic_Handwriting'\n",
    "images_dir_name: 'images' # Name of the directory containing the images\n",
    "image:\n",
    "  height: 32\n",
    "  width: 128\n",
    "optimizer:\n",
    "  lr: 0.0001\n",
    "dataloader:\n",
    "  num_workers: 0\n",
    "train:\n",
    "  csv_filename: 'train.tsv'\n",
    "  epochs: 100\n",
    "  batch_size: 64\n",
    "val:\n",
    "  csv_filename: 'test.tsv'\n",
    "  batch_size: 64"
   ],
   "metadata": {
    "execution": {
     "iopub.status.busy": "2024-05-31T11:38:52.323377Z",
     "iopub.execute_input": "2024-05-31T11:38:52.323763Z",
     "iopub.status.idle": "2024-05-31T11:38:52.345639Z",
     "shell.execute_reply.started": "2024-05-31T11:38:52.323728Z",
     "shell.execute_reply": "2024-05-31T11:38:52.344773Z"
    },
    "trusted": true
   },
   "execution_count": 11,
   "outputs": [
    {
     "name": "stdout",
     "text": "Overwriting /kaggle/working/rhtr/src/ocr/scripts/htr_config.yaml\n",
     "output_type": "stream"
    }
   ]
  },
  {
   "cell_type": "code",
   "source": [
    "# Open the text.txt we made earlier\n",
    "text = open(f'{workdir}/src/ocr/scripts/htr_config.yaml').read()\n",
    "text"
   ],
   "metadata": {
    "execution": {
     "iopub.status.busy": "2024-05-31T11:38:53.898778Z",
     "iopub.execute_input": "2024-05-31T11:38:53.899491Z",
     "iopub.status.idle": "2024-05-31T11:38:54.135103Z",
     "shell.execute_reply.started": "2024-05-31T11:38:53.899458Z",
     "shell.execute_reply": "2024-05-31T11:38:54.134062Z"
    },
    "trusted": true
   },
   "execution_count": 12,
   "outputs": [
    {
     "execution_count": 12,
     "output_type": "execute_result",
     "data": {
      "text/plain": "\"save_dir: 'data/experiments/Cyrillic_Handwriting_CRNN'\\ndataset_root: 'data/raw/Cyrillic_Handwriting'\\nimages_dir_name: 'images' # Name of the directory containing the images\\nimage:\\n  height: 32\\n  width: 128\\noptimizer:\\n  lr: 0.0001\\ndataloader:\\n  num_workers: 0\\ntrain:\\n  csv_filename: 'train.tsv'\\n  epochs: 100\\n  batch_size: 64\\nval:\\n  csv_filename: 'test.tsv'\\n  batch_size: 64\\n\""
     },
     "metadata": {}
    }
   ]
  },
  {
   "cell_type": "code",
   "source": [
    "!echo $PYTHONPATH"
   ],
   "metadata": {
    "execution": {
     "iopub.status.busy": "2024-05-31T11:38:55.100703Z",
     "iopub.execute_input": "2024-05-31T11:38:55.101571Z",
     "iopub.status.idle": "2024-05-31T11:38:56.111189Z",
     "shell.execute_reply.started": "2024-05-31T11:38:55.101536Z",
     "shell.execute_reply": "2024-05-31T11:38:56.110101Z"
    },
    "trusted": true
   },
   "execution_count": 13,
   "outputs": [
    {
     "name": "stdout",
     "text": "/kaggle/lib/kagglegym:/kaggle/lib\n",
     "output_type": "stream"
    }
   ]
  },
  {
   "cell_type": "code",
   "source": [
    "import os\n",
    "os.environ['PYTHONPATH'] += f\":{workdir}\""
   ],
   "metadata": {
    "execution": {
     "iopub.status.busy": "2024-05-31T11:38:58.025277Z",
     "iopub.execute_input": "2024-05-31T11:38:58.026092Z",
     "iopub.status.idle": "2024-05-31T11:38:58.049779Z",
     "shell.execute_reply.started": "2024-05-31T11:38:58.026048Z",
     "shell.execute_reply": "2024-05-31T11:38:58.045921Z"
    },
    "trusted": true
   },
   "execution_count": 14,
   "outputs": []
  },
  {
   "cell_type": "code",
   "source": [
    "!python3 {workdir + \"/src/ocr/scripts/train.py\"} --config_path {workdir + \"/src/ocr/scripts/htr_config.yaml\"}"
   ],
   "metadata": {
    "execution": {
     "iopub.status.busy": "2024-05-31T11:38:59.298247Z",
     "iopub.execute_input": "2024-05-31T11:38:59.298585Z",
     "iopub.status.idle": "2024-05-31T13:36:36.301648Z",
     "shell.execute_reply.started": "2024-05-31T11:38:59.298558Z",
     "shell.execute_reply": "2024-05-31T13:36:36.300558Z"
    },
    "trusted": true
   },
   "execution_count": 15,
   "outputs": [
    {
     "name": "stdout",
     "text": "/kaggle/lib/kagglegym:/kaggle/lib:/kaggle/working/rhtr\n100%|███████████████████████████████████████████| 25/25 [00:04<00:00,  5.95it/s]\n31-May-24 11:39:12 - INFO - Validation: Acc: 0.0000, WER: 1.0000, CER: 0.9999, Elapsed Time: 0:00:04\n100%|███████████████████████████████████████| 1129/1129 [02:03<00:00,  9.14it/s]\n31-May-24 11:41:15 - INFO - Epoch: 0, Loss: 1629.7367, Acc: 0.0000, WER: 0.9998, CER: 0.9932, LR: 0.0001, Elapsed Time: 0:02:03\n31-May-24 11:41:15 - INFO - Model saved to data/experiments/Cyrillic_Handwriting_CRNN/CRNN-0-0.0000.ckpt\n100%|███████████████████████████████████████████| 25/25 [00:03<00:00,  7.86it/s]\n31-May-24 11:41:18 - INFO - Validation: Acc: 0.0000, WER: 1.0000, CER: 0.9739, Elapsed Time: 0:00:03\n100%|███████████████████████████████████████| 1129/1129 [02:01<00:00,  9.28it/s]\n31-May-24 11:43:20 - INFO - Epoch: 1, Loss: 1452.4561, Acc: 0.0000, WER: 0.9959, CER: 0.9325, LR: 0.0001, Elapsed Time: 0:02:01\n100%|███████████████████████████████████████████| 25/25 [00:03<00:00,  8.00it/s]\n31-May-24 11:43:23 - INFO - Validation: Acc: 0.0000, WER: 0.9959, CER: 0.9045, Elapsed Time: 0:00:03\n100%|███████████████████████████████████████| 1129/1129 [02:03<00:00,  9.17it/s]\n31-May-24 11:45:26 - INFO - Epoch: 2, Loss: 1174.9645, Acc: 0.0032, WER: 0.9951, CER: 0.7928, LR: 0.0001, Elapsed Time: 0:02:03\n100%|███████████████████████████████████████████| 25/25 [00:03<00:00,  7.95it/s]\n31-May-24 11:45:29 - INFO - Validation: Acc: 0.0026, WER: 0.9968, CER: 0.7411, Elapsed Time: 0:00:03\n100%|███████████████████████████████████████| 1129/1129 [02:05<00:00,  9.00it/s]\n31-May-24 11:47:35 - INFO - Epoch: 3, Loss: 849.7547, Acc: 0.0404, WER: 0.9629, CER: 0.5191, LR: 0.0001, Elapsed Time: 0:02:05\n31-May-24 11:47:35 - INFO - Model saved to data/experiments/Cyrillic_Handwriting_CRNN/CRNN-3-0.0026.ckpt\n100%|███████████████████████████████████████████| 25/25 [00:03<00:00,  7.27it/s]\n31-May-24 11:47:38 - INFO - Validation: Acc: 0.0207, WER: 0.9850, CER: 0.5572, Elapsed Time: 0:00:03\n100%|███████████████████████████████████████| 1129/1129 [02:07<00:00,  8.86it/s]\n31-May-24 11:49:46 - INFO - Epoch: 4, Loss: 619.1471, Acc: 0.1276, WER: 0.8845, CER: 0.3565, LR: 0.0001, Elapsed Time: 0:02:07\n31-May-24 11:49:46 - INFO - Model saved to data/experiments/Cyrillic_Handwriting_CRNN/CRNN-4-0.0207.ckpt\n100%|███████████████████████████████████████████| 25/25 [00:03<00:00,  7.30it/s]\n31-May-24 11:49:49 - INFO - Validation: Acc: 0.0220, WER: 0.9843, CER: 0.5154, Elapsed Time: 0:00:03\n100%|███████████████████████████████████████| 1129/1129 [02:11<00:00,  8.59it/s]\n31-May-24 11:52:01 - INFO - Epoch: 5, Loss: 488.3426, Acc: 0.2116, WER: 0.8091, CER: 0.2807, LR: 0.0001, Elapsed Time: 0:02:11\n31-May-24 11:52:01 - INFO - Model saved to data/experiments/Cyrillic_Handwriting_CRNN/CRNN-5-0.0220.ckpt\n31-May-24 11:52:01 - INFO - Weights removed 'data/experiments/Cyrillic_Handwriting_CRNN/CRNN-0-0.0000.ckpt' due to weight files count limit\n100%|███████████████████████████████████████████| 25/25 [00:03<00:00,  7.44it/s]\n31-May-24 11:52:04 - INFO - Validation: Acc: 0.0570, WER: 0.9587, CER: 0.4177, Elapsed Time: 0:00:03\n100%|███████████████████████████████████████| 1129/1129 [02:09<00:00,  8.70it/s]\n31-May-24 11:54:14 - INFO - Epoch: 6, Loss: 402.7689, Acc: 0.2830, WER: 0.7447, CER: 0.2335, LR: 0.0001, Elapsed Time: 0:02:09\n31-May-24 11:54:14 - INFO - Model saved to data/experiments/Cyrillic_Handwriting_CRNN/CRNN-6-0.0570.ckpt\n31-May-24 11:54:14 - INFO - Weights removed 'data/experiments/Cyrillic_Handwriting_CRNN/CRNN-3-0.0026.ckpt' due to weight files count limit\n100%|███████████████████████████████████████████| 25/25 [00:03<00:00,  7.48it/s]\n31-May-24 11:54:17 - INFO - Validation: Acc: 0.0765, WER: 0.9451, CER: 0.3934, Elapsed Time: 0:00:03\n100%|███████████████████████████████████████| 1129/1129 [02:08<00:00,  8.81it/s]\n31-May-24 11:56:25 - INFO - Epoch: 7, Loss: 340.6105, Acc: 0.3460, WER: 0.6879, CER: 0.1983, LR: 0.0001, Elapsed Time: 0:02:08\n31-May-24 11:56:25 - INFO - Model saved to data/experiments/Cyrillic_Handwriting_CRNN/CRNN-7-0.0765.ckpt\n31-May-24 11:56:25 - INFO - Weights removed 'data/experiments/Cyrillic_Handwriting_CRNN/CRNN-4-0.0207.ckpt' due to weight files count limit\n100%|███████████████████████████████████████████| 25/25 [00:03<00:00,  7.37it/s]\n31-May-24 11:56:29 - INFO - Validation: Acc: 0.0927, WER: 0.9336, CER: 0.3600, Elapsed Time: 0:00:03\n100%|███████████████████████████████████████| 1129/1129 [02:07<00:00,  8.83it/s]\n31-May-24 11:58:37 - INFO - Epoch: 8, Loss: 291.0363, Acc: 0.4022, WER: 0.6375, CER: 0.1707, LR: 0.0001, Elapsed Time: 0:02:07\n31-May-24 11:58:37 - INFO - Model saved to data/experiments/Cyrillic_Handwriting_CRNN/CRNN-8-0.0927.ckpt\n31-May-24 11:58:37 - INFO - Weights removed 'data/experiments/Cyrillic_Handwriting_CRNN/CRNN-5-0.0220.ckpt' due to weight files count limit\n100%|███████████████████████████████████████████| 25/25 [00:03<00:00,  7.47it/s]\n31-May-24 11:58:40 - INFO - Validation: Acc: 0.1134, WER: 0.9181, CER: 0.3561, Elapsed Time: 0:00:03\n100%|███████████████████████████████████████| 1129/1129 [02:08<00:00,  8.80it/s]\n31-May-24 12:00:48 - INFO - Epoch: 9, Loss: 250.1533, Acc: 0.4561, WER: 0.5888, CER: 0.1474, LR: 0.0001, Elapsed Time: 0:02:08\n31-May-24 12:00:49 - INFO - Model saved to data/experiments/Cyrillic_Handwriting_CRNN/CRNN-9-0.1134.ckpt\n31-May-24 12:00:49 - INFO - Weights removed 'data/experiments/Cyrillic_Handwriting_CRNN/CRNN-6-0.0570.ckpt' due to weight files count limit\n100%|███████████████████████████████████████████| 25/25 [00:03<00:00,  7.53it/s]\n31-May-24 12:00:52 - INFO - Validation: Acc: 0.1270, WER: 0.9084, CER: 0.3399, Elapsed Time: 0:00:03\n100%|███████████████████████████████████████| 1129/1129 [02:08<00:00,  8.80it/s]\n31-May-24 12:03:00 - INFO - Epoch: 10, Loss: 216.7393, Acc: 0.5027, WER: 0.5471, CER: 0.1284, LR: 0.0001, Elapsed Time: 0:02:08\n31-May-24 12:03:00 - INFO - Model saved to data/experiments/Cyrillic_Handwriting_CRNN/CRNN-10-0.1270.ckpt\n31-May-24 12:03:00 - INFO - Weights removed 'data/experiments/Cyrillic_Handwriting_CRNN/CRNN-7-0.0765.ckpt' due to weight files count limit\n100%|███████████████████████████████████████████| 25/25 [00:03<00:00,  7.55it/s]\n31-May-24 12:03:03 - INFO - Validation: Acc: 0.1277, WER: 0.9066, CER: 0.3314, Elapsed Time: 0:00:03\n100%|███████████████████████████████████████| 1129/1129 [02:07<00:00,  8.87it/s]\n31-May-24 12:05:11 - INFO - Epoch: 11, Loss: 187.1250, Acc: 0.5481, WER: 0.5060, CER: 0.1114, LR: 0.0001, Elapsed Time: 0:02:07\n31-May-24 12:05:11 - INFO - Model saved to data/experiments/Cyrillic_Handwriting_CRNN/CRNN-11-0.1277.ckpt\n31-May-24 12:05:11 - INFO - Weights removed 'data/experiments/Cyrillic_Handwriting_CRNN/CRNN-8-0.0927.ckpt' due to weight files count limit\n100%|███████████████████████████████████████████| 25/25 [00:03<00:00,  7.51it/s]\n31-May-24 12:05:14 - INFO - Validation: Acc: 0.1303, WER: 0.9052, CER: 0.3281, Elapsed Time: 0:00:03\n100%|███████████████████████████████████████| 1129/1129 [02:08<00:00,  8.79it/s]\n31-May-24 12:07:23 - INFO - Epoch: 12, Loss: 161.4479, Acc: 0.5877, WER: 0.4703, CER: 0.0972, LR: 0.0001, Elapsed Time: 0:02:08\n31-May-24 12:07:23 - INFO - Model saved to data/experiments/Cyrillic_Handwriting_CRNN/CRNN-12-0.1303.ckpt\n31-May-24 12:07:23 - INFO - Weights removed 'data/experiments/Cyrillic_Handwriting_CRNN/CRNN-9-0.1134.ckpt' due to weight files count limit\n100%|███████████████████████████████████████████| 25/25 [00:03<00:00,  7.54it/s]\n31-May-24 12:07:26 - INFO - Validation: Acc: 0.1432, WER: 0.8967, CER: 0.3205, Elapsed Time: 0:00:03\n100%|███████████████████████████████████████| 1129/1129 [02:08<00:00,  8.77it/s]\n31-May-24 12:09:35 - INFO - Epoch: 13, Loss: 139.4604, Acc: 0.6262, WER: 0.4358, CER: 0.0846, LR: 0.0001, Elapsed Time: 0:02:08\n31-May-24 12:09:35 - INFO - Model saved to data/experiments/Cyrillic_Handwriting_CRNN/CRNN-13-0.1432.ckpt\n31-May-24 12:09:35 - INFO - Weights removed 'data/experiments/Cyrillic_Handwriting_CRNN/CRNN-10-0.1270.ckpt' due to weight files count limit\n100%|███████████████████████████████████████████| 25/25 [00:03<00:00,  7.54it/s]\n31-May-24 12:09:38 - INFO - Validation: Acc: 0.1478, WER: 0.8937, CER: 0.3237, Elapsed Time: 0:00:03\n100%|███████████████████████████████████████| 1129/1129 [02:08<00:00,  8.81it/s]\n31-May-24 12:11:46 - INFO - Epoch: 14, Loss: 120.9104, Acc: 0.6617, WER: 0.4036, CER: 0.0740, LR: 0.0001, Elapsed Time: 0:02:08\n31-May-24 12:11:46 - INFO - Model saved to data/experiments/Cyrillic_Handwriting_CRNN/CRNN-14-0.1478.ckpt\n31-May-24 12:11:46 - INFO - Weights removed 'data/experiments/Cyrillic_Handwriting_CRNN/CRNN-11-0.1277.ckpt' due to weight files count limit\n100%|███████████████████████████████████████████| 25/25 [00:03<00:00,  7.52it/s]\n31-May-24 12:11:50 - INFO - Validation: Acc: 0.1419, WER: 0.8977, CER: 0.3191, Elapsed Time: 0:00:03\n100%|███████████████████████████████████████| 1129/1129 [02:08<00:00,  8.81it/s]\n31-May-24 12:13:58 - INFO - Epoch: 15, Loss: 104.8625, Acc: 0.6908, WER: 0.3774, CER: 0.0654, LR: 0.0001, Elapsed Time: 0:02:08\n100%|███████████████████████████████████████████| 25/25 [00:03<00:00,  7.47it/s]\n31-May-24 12:14:01 - INFO - Validation: Acc: 0.1640, WER: 0.8816, CER: 0.3255, Elapsed Time: 0:00:03\n100%|███████████████████████████████████████| 1129/1129 [02:09<00:00,  8.68it/s]\n31-May-24 12:16:11 - INFO - Epoch: 16, Loss: 92.3888, Acc: 0.7166, WER: 0.3544, CER: 0.0579, LR: 0.0001, Elapsed Time: 0:02:09\n31-May-24 12:16:11 - INFO - Model saved to data/experiments/Cyrillic_Handwriting_CRNN/CRNN-16-0.1640.ckpt\n31-May-24 12:16:11 - INFO - Weights removed 'data/experiments/Cyrillic_Handwriting_CRNN/CRNN-12-0.1303.ckpt' due to weight files count limit\n100%|███████████████████████████████████████████| 25/25 [00:03<00:00,  7.17it/s]\n31-May-24 12:16:15 - INFO - Validation: Acc: 0.1562, WER: 0.8870, CER: 0.3261, Elapsed Time: 0:00:03\n100%|███████████████████████████████████████| 1129/1129 [02:14<00:00,  8.40it/s]\n31-May-24 12:18:29 - INFO - Epoch: 17, Loss: 81.8505, Acc: 0.7385, WER: 0.3347, CER: 0.0521, LR: 0.0001, Elapsed Time: 0:02:14\n100%|███████████████████████████████████████████| 25/25 [00:03<00:00,  7.00it/s]\n31-May-24 12:18:33 - INFO - Validation: Acc: 0.1536, WER: 0.8884, CER: 0.3264, Elapsed Time: 0:00:03\n100%|███████████████████████████████████████| 1129/1129 [02:16<00:00,  8.28it/s]\n31-May-24 12:20:49 - INFO - Epoch: 18, Loss: 71.8504, Acc: 0.7582, WER: 0.3169, CER: 0.0473, LR: 0.0001, Elapsed Time: 0:02:16\n100%|███████████████████████████████████████████| 25/25 [00:03<00:00,  6.97it/s]\n31-May-24 12:20:53 - INFO - Validation: Acc: 0.1471, WER: 0.8935, CER: 0.3330, Elapsed Time: 0:00:03\n100%|███████████████████████████████████████| 1129/1129 [02:12<00:00,  8.53it/s]\n31-May-24 12:23:05 - INFO - Epoch: 19, Loss: 64.8741, Acc: 0.7703, WER: 0.3061, CER: 0.0440, LR: 0.0001, Elapsed Time: 0:02:12\n100%|███████████████████████████████████████████| 25/25 [00:03<00:00,  7.33it/s]\n31-May-24 12:23:08 - INFO - Validation: Acc: 0.1620, WER: 0.8831, CER: 0.3206, Elapsed Time: 0:00:03\n100%|███████████████████████████████████████| 1129/1129 [02:14<00:00,  8.38it/s]\n31-May-24 12:25:23 - INFO - Epoch: 20, Loss: 58.5475, Acc: 0.7850, WER: 0.2926, CER: 0.0403, LR: 0.0001, Elapsed Time: 0:02:14\n100%|███████████████████████████████████████████| 25/25 [00:03<00:00,  7.19it/s]\n31-May-24 12:25:27 - INFO - Validation: Acc: 0.1607, WER: 0.8821, CER: 0.3194, Elapsed Time: 0:00:03\n100%|███████████████████████████████████████| 1129/1129 [02:14<00:00,  8.42it/s]\n31-May-24 12:27:41 - INFO - Epoch: 21, Loss: 53.6895, Acc: 0.7958, WER: 0.2830, CER: 0.0380, LR: 0.0001, Elapsed Time: 0:02:14\n100%|███████████████████████████████████████████| 25/25 [00:03<00:00,  7.11it/s]\n31-May-24 12:27:44 - INFO - Validation: Acc: 0.1601, WER: 0.8840, CER: 0.3243, Elapsed Time: 0:00:03\n100%|███████████████████████████████████████| 1129/1129 [02:11<00:00,  8.61it/s]\n31-May-24 12:29:55 - INFO - Epoch: 22, Loss: 49.1344, Acc: 0.8043, WER: 0.2754, CER: 0.0358, LR: 0.0001, Elapsed Time: 0:02:11\n100%|███████████████████████████████████████████| 25/25 [00:03<00:00,  7.52it/s]\n31-May-24 12:29:59 - INFO - Validation: Acc: 0.1717, WER: 0.8756, CER: 0.3123, Elapsed Time: 0:00:03\n100%|███████████████████████████████████████| 1129/1129 [02:15<00:00,  8.33it/s]\n31-May-24 12:32:14 - INFO - Epoch: 23, Loss: 44.8937, Acc: 0.8117, WER: 0.2687, CER: 0.0342, LR: 0.0001, Elapsed Time: 0:02:15\n31-May-24 12:32:14 - INFO - Model saved to data/experiments/Cyrillic_Handwriting_CRNN/CRNN-23-0.1717.ckpt\n31-May-24 12:32:14 - INFO - Weights removed 'data/experiments/Cyrillic_Handwriting_CRNN/CRNN-13-0.1432.ckpt' due to weight files count limit\n100%|███████████████████████████████████████████| 25/25 [00:03<00:00,  6.84it/s]\n31-May-24 12:32:18 - INFO - Validation: Acc: 0.1646, WER: 0.8812, CER: 0.3169, Elapsed Time: 0:00:03\n100%|███████████████████████████████████████| 1129/1129 [02:16<00:00,  8.29it/s]\n31-May-24 12:34:34 - INFO - Epoch: 24, Loss: 41.6470, Acc: 0.8190, WER: 0.2622, CER: 0.0327, LR: 0.0001, Elapsed Time: 0:02:16\n100%|███████████████████████████████████████████| 25/25 [00:03<00:00,  7.04it/s]\n31-May-24 12:34:38 - INFO - Validation: Acc: 0.1737, WER: 0.8745, CER: 0.3151, Elapsed Time: 0:00:03\n100%|███████████████████████████████████████| 1129/1129 [02:11<00:00,  8.60it/s]\n31-May-24 12:36:49 - INFO - Epoch: 25, Loss: 39.1470, Acc: 0.8258, WER: 0.2558, CER: 0.0313, LR: 0.0001, Elapsed Time: 0:02:11\n31-May-24 12:36:49 - INFO - Model saved to data/experiments/Cyrillic_Handwriting_CRNN/CRNN-25-0.1737.ckpt\n31-May-24 12:36:49 - INFO - Weights removed 'data/experiments/Cyrillic_Handwriting_CRNN/CRNN-14-0.1478.ckpt' due to weight files count limit\n100%|███████████████████████████████████████████| 25/25 [00:03<00:00,  7.46it/s]\n31-May-24 12:36:53 - INFO - Validation: Acc: 0.1692, WER: 0.8778, CER: 0.3134, Elapsed Time: 0:00:03\n100%|███████████████████████████████████████| 1129/1129 [02:07<00:00,  8.86it/s]\n31-May-24 12:39:00 - INFO - Epoch: 26, Loss: 37.0704, Acc: 0.8304, WER: 0.2518, CER: 0.0304, LR: 0.0001, Elapsed Time: 0:02:07\n100%|███████████████████████████████████████████| 25/25 [00:03<00:00,  7.70it/s]\n31-May-24 12:39:03 - INFO - Validation: Acc: 0.1607, WER: 0.8841, CER: 0.3186, Elapsed Time: 0:00:03\n100%|███████████████████████████████████████| 1129/1129 [02:08<00:00,  8.78it/s]\n31-May-24 12:41:12 - INFO - Epoch: 27, Loss: 34.9032, Acc: 0.8349, WER: 0.2479, CER: 0.0293, LR: 0.0001, Elapsed Time: 0:02:08\n100%|███████████████████████████████████████████| 25/25 [00:03<00:00,  7.07it/s]\n31-May-24 12:41:15 - INFO - Validation: Acc: 0.1633, WER: 0.8814, CER: 0.3163, Elapsed Time: 0:00:03\n100%|███████████████████████████████████████| 1129/1129 [02:11<00:00,  8.59it/s]\n31-May-24 12:43:27 - INFO - Epoch: 28, Loss: 33.6698, Acc: 0.8365, WER: 0.2463, CER: 0.0289, LR: 0.0001, Elapsed Time: 0:02:11\n100%|███████████████████████████████████████████| 25/25 [00:03<00:00,  7.49it/s]\n31-May-24 12:43:30 - INFO - Validation: Acc: 0.1588, WER: 0.8856, CER: 0.3223, Elapsed Time: 0:00:03\n100%|███████████████████████████████████████| 1129/1129 [02:11<00:00,  8.58it/s]\n31-May-24 12:45:42 - INFO - Epoch: 29, Loss: 30.5302, Acc: 0.8417, WER: 0.2416, CER: 0.0278, LR: 0.0001, Elapsed Time: 0:02:11\n100%|███████████████████████████████████████████| 25/25 [00:03<00:00,  7.12it/s]\n31-May-24 12:45:45 - INFO - Validation: Acc: 0.1549, WER: 0.8879, CER: 0.3152, Elapsed Time: 0:00:03\n100%|███████████████████████████████████████| 1129/1129 [02:17<00:00,  8.20it/s]\n31-May-24 12:48:03 - INFO - Epoch: 30, Loss: 29.3180, Acc: 0.8457, WER: 0.2380, CER: 0.0269, LR: 0.0001, Elapsed Time: 0:02:17\n100%|███████████████████████████████████████████| 25/25 [00:03<00:00,  6.99it/s]\n31-May-24 12:48:07 - INFO - Validation: Acc: 0.1633, WER: 0.8816, CER: 0.3191, Elapsed Time: 0:00:03\n100%|███████████████████████████████████████| 1129/1129 [02:17<00:00,  8.22it/s]\n31-May-24 12:50:24 - INFO - Epoch: 31, Loss: 28.2041, Acc: 0.8467, WER: 0.2373, CER: 0.0268, LR: 0.0001, Elapsed Time: 0:02:17\n100%|███████████████████████████████████████████| 25/25 [00:03<00:00,  6.89it/s]\n31-May-24 12:50:28 - INFO - Validation: Acc: 0.1769, WER: 0.8716, CER: 0.3125, Elapsed Time: 0:00:03\n100%|███████████████████████████████████████| 1129/1129 [02:12<00:00,  8.52it/s]\n31-May-24 12:52:40 - INFO - Epoch: 32, Loss: 26.2763, Acc: 0.8503, WER: 0.2340, CER: 0.0262, LR: 0.0001, Elapsed Time: 0:02:12\n31-May-24 12:52:40 - INFO - Model saved to data/experiments/Cyrillic_Handwriting_CRNN/CRNN-32-0.1769.ckpt\n31-May-24 12:52:40 - INFO - Weights removed 'data/experiments/Cyrillic_Handwriting_CRNN/CRNN-16-0.1640.ckpt' due to weight files count limit\n100%|███████████████████████████████████████████| 25/25 [00:03<00:00,  7.29it/s]\n31-May-24 12:52:44 - INFO - Validation: Acc: 0.1627, WER: 0.8823, CER: 0.3162, Elapsed Time: 0:00:03\n100%|███████████████████████████████████████| 1129/1129 [02:13<00:00,  8.47it/s]\n31-May-24 12:54:57 - INFO - Epoch: 33, Loss: 26.1423, Acc: 0.8497, WER: 0.2345, CER: 0.0261, LR: 0.0001, Elapsed Time: 0:02:13\n100%|███████████████████████████████████████████| 25/25 [00:03<00:00,  7.28it/s]\n31-May-24 12:55:00 - INFO - Validation: Acc: 0.1698, WER: 0.8773, CER: 0.3162, Elapsed Time: 0:00:03\n100%|███████████████████████████████████████| 1129/1129 [02:12<00:00,  8.54it/s]\n31-May-24 12:57:13 - INFO - Epoch: 34, Loss: 24.7744, Acc: 0.8521, WER: 0.2325, CER: 0.0258, LR: 0.0001, Elapsed Time: 0:02:12\n100%|███████████████████████████████████████████| 25/25 [00:03<00:00,  7.19it/s]\n31-May-24 12:57:16 - INFO - Validation: Acc: 0.1614, WER: 0.8837, CER: 0.3152, Elapsed Time: 0:00:03\n100%|███████████████████████████████████████| 1129/1129 [02:12<00:00,  8.55it/s]\n31-May-24 12:59:28 - INFO - Epoch: 35, Loss: 24.9135, Acc: 0.8497, WER: 0.2344, CER: 0.0259, LR: 0.0001, Elapsed Time: 0:02:12\n100%|███████████████████████████████████████████| 25/25 [00:03<00:00,  7.14it/s]\n31-May-24 12:59:32 - INFO - Validation: Acc: 0.1607, WER: 0.8837, CER: 0.3124, Elapsed Time: 0:00:03\n100%|███████████████████████████████████████| 1129/1129 [02:14<00:00,  8.41it/s]\n31-May-24 13:01:46 - INFO - Epoch: 36, Loss: 24.7681, Acc: 0.8509, WER: 0.2333, CER: 0.0258, LR: 0.0001, Elapsed Time: 0:02:14\n100%|███████████████████████████████████████████| 25/25 [00:03<00:00,  7.07it/s]\n31-May-24 13:01:49 - INFO - Validation: Acc: 0.1698, WER: 0.8780, CER: 0.3103, Elapsed Time: 0:00:03\n100%|███████████████████████████████████████| 1129/1129 [02:13<00:00,  8.43it/s]\n31-May-24 13:04:03 - INFO - Epoch: 37, Loss: 24.0917, Acc: 0.8524, WER: 0.2319, CER: 0.0255, LR: 0.0001, Elapsed Time: 0:02:13\n100%|███████████████████████████████████████████| 25/25 [00:03<00:00,  7.01it/s]\n31-May-24 13:04:07 - INFO - Validation: Acc: 0.1821, WER: 0.8679, CER: 0.3103, Elapsed Time: 0:00:03\n100%|███████████████████████████████████████| 1129/1129 [02:14<00:00,  8.41it/s]\n31-May-24 13:06:21 - INFO - Epoch: 38, Loss: 22.5313, Acc: 0.8559, WER: 0.2291, CER: 0.0248, LR: 0.0001, Elapsed Time: 0:02:14\n31-May-24 13:06:21 - INFO - Model saved to data/experiments/Cyrillic_Handwriting_CRNN/CRNN-38-0.1821.ckpt\n31-May-24 13:06:21 - INFO - Weights removed 'data/experiments/Cyrillic_Handwriting_CRNN/CRNN-23-0.1717.ckpt' due to weight files count limit\n100%|███████████████████████████████████████████| 25/25 [00:03<00:00,  7.16it/s]\n31-May-24 13:06:25 - INFO - Validation: Acc: 0.1692, WER: 0.8771, CER: 0.3103, Elapsed Time: 0:00:03\n100%|███████████████████████████████████████| 1129/1129 [02:15<00:00,  8.36it/s]\n31-May-24 13:08:40 - INFO - Epoch: 39, Loss: 22.1493, Acc: 0.8575, WER: 0.2273, CER: 0.0245, LR: 0.0001, Elapsed Time: 0:02:15\n100%|███████████████████████████████████████████| 25/25 [00:03<00:00,  7.14it/s]\n31-May-24 13:08:43 - INFO - Validation: Acc: 0.1517, WER: 0.8904, CER: 0.3183, Elapsed Time: 0:00:03\n100%|███████████████████████████████████████| 1129/1129 [02:14<00:00,  8.37it/s]\n31-May-24 13:10:58 - INFO - Epoch: 40, Loss: 20.5476, Acc: 0.8601, WER: 0.2251, CER: 0.0240, LR: 0.0001, Elapsed Time: 0:02:14\n100%|███████████████████████████████████████████| 25/25 [00:03<00:00,  7.09it/s]\n31-May-24 13:11:02 - INFO - Validation: Acc: 0.1666, WER: 0.8796, CER: 0.3140, Elapsed Time: 0:00:03\n100%|███████████████████████████████████████| 1129/1129 [02:15<00:00,  8.32it/s]\n31-May-24 13:13:18 - INFO - Epoch: 41, Loss: 20.0696, Acc: 0.8617, WER: 0.2238, CER: 0.0238, LR: 0.0001, Elapsed Time: 0:02:15\n100%|███████████████████████████████████████████| 25/25 [00:03<00:00,  7.15it/s]\n31-May-24 13:13:21 - INFO - Validation: Acc: 0.1841, WER: 0.8665, CER: 0.3098, Elapsed Time: 0:00:03\n100%|███████████████████████████████████████| 1129/1129 [02:17<00:00,  8.23it/s]\n31-May-24 13:15:38 - INFO - Epoch: 42, Loss: 19.7699, Acc: 0.8604, WER: 0.2249, CER: 0.0239, LR: 0.0001, Elapsed Time: 0:02:17\n31-May-24 13:15:38 - INFO - Model saved to data/experiments/Cyrillic_Handwriting_CRNN/CRNN-42-0.1841.ckpt\n31-May-24 13:15:38 - INFO - Weights removed 'data/experiments/Cyrillic_Handwriting_CRNN/CRNN-25-0.1737.ckpt' due to weight files count limit\n100%|███████████████████████████████████████████| 25/25 [00:03<00:00,  7.02it/s]\n31-May-24 13:15:42 - INFO - Validation: Acc: 0.1802, WER: 0.8686, CER: 0.3088, Elapsed Time: 0:00:03\n100%|███████████████████████████████████████| 1129/1129 [02:15<00:00,  8.32it/s]\n31-May-24 13:17:57 - INFO - Epoch: 43, Loss: 18.6971, Acc: 0.8631, WER: 0.2222, CER: 0.0234, LR: 0.0001, Elapsed Time: 0:02:15\n100%|███████████████████████████████████████████| 25/25 [00:03<00:00,  6.97it/s]\n31-May-24 13:18:01 - INFO - Validation: Acc: 0.1724, WER: 0.8756, CER: 0.3210, Elapsed Time: 0:00:03\n100%|███████████████████████████████████████| 1129/1129 [02:14<00:00,  8.41it/s]\n31-May-24 13:20:15 - INFO - Epoch: 44, Loss: 18.3478, Acc: 0.8647, WER: 0.2210, CER: 0.0232, LR: 0.0001, Elapsed Time: 0:02:14\n100%|███████████████████████████████████████████| 25/25 [00:03<00:00,  7.11it/s]\n31-May-24 13:20:19 - INFO - Validation: Acc: 0.1672, WER: 0.8786, CER: 0.3143, Elapsed Time: 0:00:03\n100%|███████████████████████████████████████| 1129/1129 [02:14<00:00,  8.36it/s]\n31-May-24 13:22:34 - INFO - Epoch: 45, Loss: 17.9964, Acc: 0.8645, WER: 0.2211, CER: 0.0232, LR: 0.0001, Elapsed Time: 0:02:14\n100%|███████████████████████████████████████████| 25/25 [00:03<00:00,  7.10it/s]\n31-May-24 13:22:37 - INFO - Validation: Acc: 0.1646, WER: 0.8795, CER: 0.3204, Elapsed Time: 0:00:03\n100%|███████████████████████████████████████| 1129/1129 [02:16<00:00,  8.30it/s]\n31-May-24 13:24:53 - INFO - Epoch: 46, Loss: 17.8639, Acc: 0.8651, WER: 0.2206, CER: 0.0230, LR: 0.0001, Elapsed Time: 0:02:16\n100%|███████████████████████████████████████████| 25/25 [00:03<00:00,  7.07it/s]\n31-May-24 13:24:57 - INFO - Validation: Acc: 0.1633, WER: 0.8815, CER: 0.3104, Elapsed Time: 0:00:03\n100%|███████████████████████████████████████| 1129/1129 [02:15<00:00,  8.32it/s]\n31-May-24 13:27:13 - INFO - Epoch: 47, Loss: 17.3786, Acc: 0.8669, WER: 0.2189, CER: 0.0228, LR: 0.0001, Elapsed Time: 0:02:15\n100%|███████████████████████████████████████████| 25/25 [00:03<00:00,  7.09it/s]\n31-May-24 13:27:16 - INFO - Validation: Acc: 0.1614, WER: 0.8837, CER: 0.3167, Elapsed Time: 0:00:03\n100%|███████████████████████████████████████| 1129/1129 [02:15<00:00,  8.36it/s]\n31-May-24 13:29:31 - INFO - Epoch: 48, Loss: 16.8859, Acc: 0.8684, WER: 0.2178, CER: 0.0224, LR: 0.0001, Elapsed Time: 0:02:15\n100%|███████████████████████████████████████████| 25/25 [00:03<00:00,  7.18it/s]\n31-May-24 13:29:35 - INFO - Validation: Acc: 0.1743, WER: 0.8740, CER: 0.3083, Elapsed Time: 0:00:03\n100%|███████████████████████████████████████| 1129/1129 [02:14<00:00,  8.39it/s]\n31-May-24 13:31:49 - INFO - Epoch: 49, Loss: 15.7625, Acc: 0.8698, WER: 0.2163, CER: 0.0222, LR: 0.0001, Elapsed Time: 0:02:14\n100%|███████████████████████████████████████████| 25/25 [00:03<00:00,  7.13it/s]\n31-May-24 13:31:53 - INFO - Validation: Acc: 0.1724, WER: 0.8759, CER: 0.3082, Elapsed Time: 0:00:03\n100%|███████████████████████████████████████| 1129/1129 [02:15<00:00,  8.34it/s]\n31-May-24 13:34:08 - INFO - Epoch: 50, Loss: 15.1115, Acc: 0.8708, WER: 0.2155, CER: 0.0219, LR: 0.0001, Elapsed Time: 0:02:15\n100%|███████████████████████████████████████████| 25/25 [00:03<00:00,  7.19it/s]\n31-May-24 13:34:12 - INFO - Validation: Acc: 0.1594, WER: 0.8853, CER: 0.3112, Elapsed Time: 0:00:03\n100%|███████████████████████████████████████| 1129/1129 [02:15<00:00,  8.35it/s]\n31-May-24 13:36:27 - INFO - Epoch: 51, Loss: 14.8492, Acc: 0.8725, WER: 0.2140, CER: 0.0216, LR: 0.0001, Elapsed Time: 0:02:15\n100%|███████████████████████████████████████████| 25/25 [00:03<00:00,  7.16it/s]\n31-May-24 13:36:31 - INFO - Validation: Acc: 0.1750, WER: 0.8736, CER: 0.3117, Elapsed Time: 0:00:03\n  3%|█▍                                       | 38/1129 [00:04<02:14,  8.14it/s]^C\n  3%|█▍                                       | 38/1129 [00:04<02:14,  8.09it/s]\nTraceback (most recent call last):\n  File \"/kaggle/working/rhtr/src/ocr/scripts/train.py\", line 178, in <module>\n    main(args_parser.parse_args())\n  File \"/kaggle/working/rhtr/src/ocr/scripts/train.py\", line 149, in main\n    loss_avg = train_one_epoch(\n  File \"/kaggle/working/rhtr/src/ocr/scripts/train.py\", line 45, in train_one_epoch\n    output_lenghts = torch.full(\nKeyboardInterrupt\n",
     "output_type": "stream"
    }
   ]
  },
  {
   "cell_type": "code",
   "source": [
    "from src.ocr.predictor import OCRTorchModel\n",
    "model = OCRTorchModel('/kaggle/working/rhtr/data/experiments/Cyrillic_Handwriting_CRNN/CRNN-42-0.1841.ckpt', '/kaggle/working/rhtr/src/ocr/scripts/htr_config.yaml')"
   ],
   "metadata": {
    "execution": {
     "iopub.status.busy": "2024-05-31T13:36:40.275221Z",
     "iopub.execute_input": "2024-05-31T13:36:40.276051Z",
     "iopub.status.idle": "2024-05-31T13:36:44.219201Z",
     "shell.execute_reply.started": "2024-05-31T13:36:40.275999Z",
     "shell.execute_reply": "2024-05-31T13:36:44.218118Z"
    },
    "trusted": true
   },
   "execution_count": 16,
   "outputs": []
  },
  {
   "cell_type": "code",
   "source": [
    "import cv2\n",
    "import matplotlib.pyplot as plt\n",
    "dataset_path = '/kaggle/working/rhtr/data/raw/Cyrillic_Handwriting/test'\n",
    "image_name = os.listdir(dataset_path)[1]\n",
    "im = cv2.imread(f\"{dataset_path}/{image_name}\")\n",
    "plt.imshow(im)\n",
    "plt.show()"
   ],
   "metadata": {
    "execution": {
     "iopub.status.busy": "2024-05-31T13:37:13.604424Z",
     "iopub.execute_input": "2024-05-31T13:37:13.605138Z",
     "iopub.status.idle": "2024-05-31T13:37:13.923962Z",
     "shell.execute_reply.started": "2024-05-31T13:37:13.605106Z",
     "shell.execute_reply": "2024-05-31T13:37:13.922996Z"
    },
    "trusted": true
   },
   "execution_count": 19,
   "outputs": [
    {
     "output_type": "display_data",
     "data": {
      "text/plain": "<Figure size 640x480 with 1 Axes>",
      "image/png": "[encoded data removed]"
     },
     "metadata": {}
    }
   ]
  },
  {
   "cell_type": "code",
   "source": [
    "model.predict([im])"
   ],
   "metadata": {
    "execution": {
     "iopub.status.busy": "2024-05-31T13:37:21.893927Z",
     "iopub.execute_input": "2024-05-31T13:37:21.894325Z",
     "iopub.status.idle": "2024-05-31T13:37:22.215885Z",
     "shell.execute_reply.started": "2024-05-31T13:37:21.894296Z",
     "shell.execute_reply": "2024-05-31T13:37:22.214777Z"
    },
    "trusted": true
   },
   "execution_count": 20,
   "outputs": [
    {
     "execution_count": 20,
     "output_type": "execute_result",
     "data": {
      "text/plain": "['менинольрукотядлетеля']"
     },
     "metadata": {}
    }
   ]
  },
  {
   "cell_type": "code",
   "source": [
    "from pathlib import Path\n",
    "parentdir = str(Path(workdir).parent.absolute())\n",
    "parentdir"
   ],
   "metadata": {
    "execution": {
     "iopub.status.busy": "2024-05-31T13:42:50.157680Z",
     "iopub.execute_input": "2024-05-31T13:42:50.158592Z",
     "iopub.status.idle": "2024-05-31T13:42:50.204257Z",
     "shell.execute_reply.started": "2024-05-31T13:42:50.158557Z",
     "shell.execute_reply": "2024-05-31T13:42:50.203309Z"
    },
    "trusted": true
   },
   "execution_count": 26,
   "outputs": [
    {
     "execution_count": 26,
     "output_type": "execute_result",
     "data": {
      "text/plain": "'/kaggle/working'"
     },
     "metadata": {}
    }
   ]
  },
  {
   "cell_type": "code",
   "source": [
    "!zip -r {parentdir + '/Cyrillic_Handwriting_CRNN.zip'} {workdir + \"/data/experiments/Cyrillic_Handwriting_CRNN\"}"
   ],
   "metadata": {
    "execution": {
     "iopub.status.busy": "2024-05-31T13:43:16.107737Z",
     "iopub.execute_input": "2024-05-31T13:43:16.108137Z",
     "iopub.status.idle": "2024-05-31T13:43:22.677004Z",
     "shell.execute_reply.started": "2024-05-31T13:43:16.108099Z",
     "shell.execute_reply": "2024-05-31T13:43:22.675883Z"
    },
    "trusted": true
   },
   "execution_count": 29,
   "outputs": [
    {
     "name": "stdout",
     "text": "  adding: kaggle/working/rhtr/data/experiments/Cyrillic_Handwriting_CRNN/ (stored 0%)\n  adding: kaggle/working/rhtr/data/experiments/Cyrillic_Handwriting_CRNN/CRNN-42-0.1841.ckpt (deflated 7%)\n  adding: kaggle/working/rhtr/data/experiments/Cyrillic_Handwriting_CRNN/CRNN-38-0.1821.ckpt (deflated 7%)\n  adding: kaggle/working/rhtr/data/experiments/Cyrillic_Handwriting_CRNN/train.log (deflated 84%)\n  adding: kaggle/working/rhtr/data/experiments/Cyrillic_Handwriting_CRNN/CRNN-32-0.1769.ckpt (deflated 7%)\n",
     "output_type": "stream"
    }
   ]
  },
  {
   "cell_type": "code",
   "source": [
    "%cd {parentdir}"
   ],
   "metadata": {
    "execution": {
     "iopub.status.busy": "2024-05-31T13:44:04.157004Z",
     "iopub.execute_input": "2024-05-31T13:44:04.157441Z",
     "iopub.status.idle": "2024-05-31T13:44:04.211039Z",
     "shell.execute_reply.started": "2024-05-31T13:44:04.157407Z",
     "shell.execute_reply": "2024-05-31T13:44:04.209890Z"
    },
    "trusted": true
   },
   "execution_count": 30,
   "outputs": [
    {
     "name": "stdout",
     "text": "/kaggle/working\n",
     "output_type": "stream"
    }
   ]
  },
  {
   "cell_type": "code",
   "source": [
    "from IPython.display import FileLink\n",
    "FileLink(f\"Cyrillic_Handwriting_CRNN.zip\")"
   ],
   "metadata": {
    "execution": {
     "iopub.status.busy": "2024-05-31T13:44:09.186886Z",
     "iopub.execute_input": "2024-05-31T13:44:09.187301Z",
     "iopub.status.idle": "2024-05-31T13:44:09.237600Z",
     "shell.execute_reply.started": "2024-05-31T13:44:09.187271Z",
     "shell.execute_reply": "2024-05-31T13:44:09.236436Z"
    },
    "trusted": true
   },
   "execution_count": 31,
   "outputs": [
    {
     "execution_count": 31,
     "output_type": "execute_result",
     "data": {
      "text/plain": "/kaggle/working/Cyrillic_Handwriting_CRNN.zip",
      "text/html": "<a href='Cyrillic_Handwriting_CRNN.zip' target='_blank'>Cyrillic_Handwriting_CRNN.zip</a><br>"
     },
     "metadata": {}
    }
   ]
  },
  {
   "cell_type": "code",
   "source": [],
   "metadata": {},
   "execution_count": null,
   "outputs": []
  }
 ]
}
