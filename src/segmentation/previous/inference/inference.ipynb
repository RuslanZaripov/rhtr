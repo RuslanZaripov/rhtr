{
 "cells": [
  {
   "cell_type": "code",
   "execution_count": null,
   "id": "023e30fa",
   "metadata": {},
   "outputs": [],
   "source": [
    "import cv2\n",
    "from matplotlib import pyplot as plt\n",
    "import numpy as np\n",
    "\n",
    "from segm.predictor import SegmPredictor"
   ]
  },
  {
   "cell_type": "code",
   "execution_count": null,
   "id": "73d3e9f6",
   "metadata": {},
   "outputs": [],
   "source": [
    "IMG_PATHS = ['']\n",
    "\n",
    "MODEL_PATH = ''\n",
    "CONFIG_PATH = ''\n",
    "\n",
    "NUM_THREADS = 8\n",
    "\n",
    "DEVICE = 'cuda'\n",
    "\n",
    "RUNTIME = 'Pytorch'"
   ]
  },
  {
   "cell_type": "code",
   "execution_count": null,
   "id": "03d55063",
   "metadata": {},
   "outputs": [],
   "source": [
    "predictor = SegmPredictor(\n",
    "    model_path=MODEL_PATH,\n",
    "    config_path=CONFIG_PATH,\n",
    "    num_threads=NUM_THREADS,\n",
    "    device=DEVICE,\n",
    "    runtime=RUNTIME\n",
    ")"
   ]
  },
  {
   "cell_type": "markdown",
   "id": "b1216dcf",
   "metadata": {},
   "source": [
    "# Predict"
   ]
  },
  {
   "cell_type": "code",
   "execution_count": null,
   "id": "5684b764",
   "metadata": {},
   "outputs": [],
   "source": [
    "images = [cv2.imread(i) for i in IMG_PATHS]\n",
    "\n",
    "pred_data = predictor(images)"
   ]
  },
  {
   "cell_type": "code",
   "execution_count": null,
   "id": "6736ad12",
   "metadata": {
    "scrolled": false
   },
   "outputs": [],
   "source": [
    "for idx, pred_img in enumerate(pred_data):\n",
    "    for prediction in pred_img['predictions']:\n",
    "        contour = prediction['polygon']\n",
    "        cv2.drawContours(images[idx], np.array([contour]), -1, (0, 255, 0), 2)\n",
    "\n",
    "    plt.figure(figsize=(15, 15))\n",
    "    plt.imshow(images[idx])\n",
    "    plt.show()"
   ]
  }
 ],
 "metadata": {
  "kernelspec": {
   "display_name": "Python 3 (ipykernel)",
   "language": "python",
   "name": "python3"
  },
  "language_info": {
   "codemirror_mode": {
    "name": "ipython",
    "version": 3
   },
   "file_extension": ".py",
   "mimetype": "text/x-python",
   "name": "python",
   "nbconvert_exporter": "python",
   "pygments_lexer": "ipython3",
   "version": "3.8.10"
  }
 },
 "nbformat": 4,
 "nbformat_minor": 5
}
