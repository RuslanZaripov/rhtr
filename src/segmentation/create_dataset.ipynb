{
 "cells": [
  {
   "cell_type": "code",
   "outputs": [],
   "source": [
    "!git clone \"https://github.com/RuslanZaripov/rhtr.git\""
   ],
   "metadata": {
    "collapsed": false
   },
   "id": "49da6651f626a7cb"
  },
  {
   "cell_type": "markdown",
   "id": "71e699e01316b4b3",
   "metadata": {
    "collapsed": false
   },
   "source": [
    "# Move to the root folder"
   ]
  },
  {
   "cell_type": "code",
   "execution_count": 2,
   "id": "cd109888-145c-4894-9394-ba436cfd2c9e",
   "metadata": {},
   "outputs": [
    {
     "data": {
      "text/plain": [
       "'C:\\\\Users\\\\rusla\\\\Desktop\\\\ITMO\\\\7-sem\\\\thesis\\\\rhtr\\\\src\\\\segmentation\\\\scripts'"
      ]
     },
     "execution_count": 2,
     "metadata": {},
     "output_type": "execute_result"
    }
   ],
   "source": [
    "import os\n",
    "\n",
    "os.getcwd()"
   ]
  },
  {
   "cell_type": "code",
   "execution_count": 17,
   "id": "368a9af9dee234a3",
   "metadata": {
    "ExecuteTime": {
     "end_time": "2024-05-16T13:26:37.569989600Z",
     "start_time": "2024-05-16T13:26:37.540642800Z"
    },
    "collapsed": false
   },
   "outputs": [
    {
     "data": {
      "text/plain": [
       "'C:\\\\Users\\\\rusla\\\\Desktop\\\\ITMO\\\\7-sem\\\\thesis\\\\rhtr'"
      ]
     },
     "execution_count": 17,
     "metadata": {},
     "output_type": "execute_result"
    }
   ],
   "source": [
    "import os\n",
    "\n",
    "os.chdir(\"../../../\")\n",
    "os.getcwd()"
   ]
  },
  {
   "cell_type": "markdown",
   "id": "fb7b07ffb07de008",
   "metadata": {
    "collapsed": false
   },
   "source": [
    "# Download the datasets"
   ]
  },
  {
   "cell_type": "code",
   "execution_count": 22,
   "id": "64df8fbdd8fd6182",
   "metadata": {
    "ExecuteTime": {
     "end_time": "2024-05-16T13:28:10.618618200Z",
     "start_time": "2024-05-16T13:28:10.594029200Z"
    },
    "collapsed": false
   },
   "outputs": [],
   "source": [
    "data_folder = 'data/raw/'"
   ]
  },
  {
   "cell_type": "code",
   "execution_count": 26,
   "id": "609c48de0f282e40",
   "metadata": {
    "collapsed": false,
    "ExecuteTime": {
     "end_time": "2024-05-16T13:40:31.613732100Z",
     "start_time": "2024-05-16T13:40:31.591344500Z"
    }
   },
   "outputs": [],
   "source": [
    "dataset_name = 'school_notebooks_EN'\n",
    "dataset_path = data_folder + dataset_name"
   ]
  },
  {
   "cell_type": "code",
   "execution_count": 23,
   "id": "initial_id",
   "metadata": {
    "ExecuteTime": {
     "end_time": "2024-05-16T13:31:19.755702300Z",
     "start_time": "2024-05-16T13:28:11.377696100Z"
    },
    "collapsed": true,
    "jupyter": {
     "outputs_hidden": true
    }
   },
   "outputs": [
    {
     "name": "stdout",
     "output_type": "stream",
     "text": [
      "Updated Git hooks.\n",
      "Git LFS initialized.\n"
     ]
    },
    {
     "name": "stderr",
     "output_type": "stream",
     "text": [
      "Cloning into 'data/raw/school_notebooks_EN'...\n"
     ]
    }
   ],
   "source": [
    "!rm -rf /kaggle/working/school_notebooks_EN\n",
    "!git lfs install\n",
    "!git clone https://huggingface.co/datasets/ai-forever/school_notebooks_EN {dataset_path}"
   ]
  },
  {
   "cell_type": "code",
   "execution_count": null,
   "id": "ae36ce04f7d5efd3",
   "metadata": {
    "collapsed": false
   },
   "outputs": [],
   "source": [
    "!unzip -o -q {dataset_path + '/images.zip'} -d {dataset_path + '/school_notebooks_EN'} > /dev/null"
   ]
  },
  {
   "cell_type": "code",
   "execution_count": 27,
   "id": "706335068d900198",
   "metadata": {
    "collapsed": false,
    "ExecuteTime": {
     "end_time": "2024-05-16T13:40:33.400435900Z",
     "start_time": "2024-05-16T13:40:33.369836100Z"
    }
   },
   "outputs": [],
   "source": [
    "dataset_name = 'school_notebooks_RU'\n",
    "dataset_path = data_folder + dataset_name"
   ]
  },
  {
   "cell_type": "code",
   "execution_count": 6,
   "id": "8cbf302a0122c939",
   "metadata": {
    "ExecuteTime": {
     "end_time": "2024-05-16T13:18:55.948726500Z",
     "start_time": "2024-05-16T13:18:55.851696200Z"
    },
    "collapsed": false
   },
   "outputs": [
    {
     "name": "stdout",
     "output_type": "stream",
     "text": [
      "/c/Users/rusla/Desktop/ITMO/7-sem/thesis/rhtr/src/segmentation/scripts\n"
     ]
    }
   ],
   "source": [
    "!rm -rf /kaggle/working/school_notebooks_RU\n",
    "!git lfs install\n",
    "!git clone https://huggingface.co/datasets/ai-forever/school_notebooks_RU {dataset_path}"
   ]
  },
  {
   "cell_type": "code",
   "execution_count": null,
   "id": "bd78a417b9b4359d",
   "metadata": {
    "collapsed": false
   },
   "outputs": [],
   "source": [
    "!rm -rf /kaggle/working/school_notebooks_RU\n",
    "!git lfs install\n",
    "!git clone https://huggingface.co/datasets/ai-forever/school_notebooks_RU {data_path}"
   ]
  },
  {
   "cell_type": "code",
   "execution_count": null,
   "id": "4cf429ab0fbaddc4",
   "metadata": {
    "collapsed": false
   },
   "outputs": [],
   "source": [
    "!unzip -o -q {dataset_path + '/images.zip'} -d {dataset_path + '/school_notebooks_RU'} > /dev/null"
   ]
  },
  {
   "cell_type": "code",
   "outputs": [],
   "source": [
    "import albumentations as A\n",
    "from src.segmentation.preprocessing import *\n",
    "import numpy as np\n",
    "\n",
    "\n",
    "def preprocessing(input_image):\n",
    "    # gray = grayscale(input_image)\n",
    "    # cl = clahe1channel(gray)\n",
    "    # g = gaussian(cl)\n",
    "    b = bilateral(input_image)\n",
    "    return b\n",
    "\n",
    "\n",
    "ADE_MEAN = np.array([123.675, 116.280, 103.530]) / 255\n",
    "ADE_STD = np.array([58.395, 57.120, 57.375]) / 255\n",
    "\n",
    "validation_transform = A.Compose([\n",
    "    A.Normalize(),\n",
    "    A.Resize(width=768, height=768),\n",
    "])\n",
    "\n",
    "train_transform = A.Compose([\n",
    "    A.Normalize(),\n",
    "    A.Resize(width=768, height=768),\n",
    "])"
   ],
   "metadata": {
    "collapsed": false
   },
   "id": "6c71276f7ad45686"
  },
  {
   "cell_type": "code",
   "outputs": [],
   "source": [
    "from src.segmentation.dataset import SchoolSegmentationDataset\n",
    "\n",
    "validation_set_ru = SchoolSegmentationDataset(\n",
    "    '/kaggle/working/school_notebooks_RU/annotations_val.json',\n",
    "    '/kaggle/working/school_notebooks_RU/images',\n",
    "    folder_name='SchoolSegmentationDatasetRU',\n",
    "    preprocessing=preprocessing,\n",
    "    transform=validation_transform,\n",
    "    df_path=None,\n",
    "    keep=True)"
   ],
   "metadata": {
    "collapsed": false
   },
   "id": "f69313126f10edf0"
  },
  {
   "cell_type": "code",
   "outputs": [],
   "source": [
    "from src.segmentation.dataset import dynamic_length_collate\n",
    "from torch.utils.data import Dataset\n",
    "import torch\n",
    "\n",
    "validation_loader = torch.utils.data.DataLoader(\n",
    "    validation_set_ru,\n",
    "    batch_size=4,\n",
    "    shuffle=False,\n",
    "    collate_fn=dynamic_length_collate)"
   ],
   "metadata": {
    "collapsed": false
   },
   "id": "4cabd13a86666fba"
  },
  {
   "cell_type": "code",
   "outputs": [
    {
     "ename": "NameError",
     "evalue": "name 'AverageMeter' is not defined",
     "output_type": "error",
     "traceback": [
      "\u001B[1;31m---------------------------------------------------------------------------\u001B[0m",
      "\u001B[1;31mNameError\u001B[0m                                 Traceback (most recent call last)",
      "Cell \u001B[1;32mIn[31], line 5\u001B[0m\n\u001B[0;32m      2\u001B[0m pos_to_show \u001B[38;5;241m=\u001B[39m \u001B[38;5;241m0\u001B[39m\n\u001B[0;32m      4\u001B[0m \u001B[38;5;66;03m# black_pixels_thresh = AverageMeter()\u001B[39;00m\n\u001B[1;32m----> 5\u001B[0m black_pixels_binary \u001B[38;5;241m=\u001B[39m \u001B[43mAverageMeter\u001B[49m()\n\u001B[0;32m      6\u001B[0m black_pixels_lines \u001B[38;5;241m=\u001B[39m AverageMeter()\n\u001B[0;32m      8\u001B[0m \u001B[38;5;28;01mfor\u001B[39;00m idx, data \u001B[38;5;129;01min\u001B[39;00m tqdm(\u001B[38;5;28menumerate\u001B[39m(validation_loader), total\u001B[38;5;241m=\u001B[39m\u001B[38;5;28mlen\u001B[39m(validation_loader)):\n\u001B[0;32m      9\u001B[0m \u001B[38;5;66;03m#     print(f\"{data[0][pos_to_show].min()}-{data[0][pos_to_show].max()}\")\u001B[39;00m\n\u001B[0;32m     10\u001B[0m \n\u001B[0;32m     11\u001B[0m \u001B[38;5;66;03m#     print(f\"{data[0].shape=}\")\u001B[39;00m\n\u001B[0;32m     12\u001B[0m \u001B[38;5;66;03m#     print(f\"{data[0][0].shape=}\")\u001B[39;00m\n\u001B[0;32m     13\u001B[0m \u001B[38;5;66;03m#     print(f\"{data[0][0].min()}-{data[0][0].max()}\")\u001B[39;00m\n",
      "\u001B[1;31mNameError\u001B[0m: name 'AverageMeter' is not defined"
     ]
    }
   ],
   "source": [
    "from src.segmentation.metrics import AverageMeter\n",
    "from src.segmentation.utils import visualize, background_ratio\n",
    "from tqdm import tqdm\n",
    "\n",
    "interval = 10\n",
    "pos_to_show = 0\n",
    "\n",
    "# black_pixels_thresh = AverageMeter()\n",
    "black_pixels_binary = AverageMeter('black_pixels_binary')\n",
    "black_pixels_lines = AverageMeter('black_pixels_lines')\n",
    "\n",
    "for idx, data in tqdm(enumerate(validation_loader), total=len(validation_loader)):\n",
    "    #     print(f\"{data[0][pos_to_show].min()}-{data[0][pos_to_show].max()}\")\n",
    "\n",
    "    #     print(f\"{data[0].shape=}\")\n",
    "    #     print(f\"{data[0][0].shape=}\")\n",
    "    #     print(f\"{data[0][0].min()}-{data[0][0].max()}\")\n",
    "    original = np.transpose(data[0][pos_to_show], (1, 2, 0))\n",
    "\n",
    "    #     print(f\"{type(data[1])=}\")\n",
    "    #     print(f\"{data[1]['watershed_masks'].shape=}\")\n",
    "    #     print(f\"{data[1]['binary'].shape=}\")\n",
    "    #     print(f\"{data[1]['thresh'].shape=}\")\n",
    "\n",
    "    #     thresh = data[1]['thresh'][0].squeeze(0)\n",
    "    #     instance = data[1]['instance'][0].squeeze(0)\n",
    "    watershed_first = data[1]['watershed'][0][0]\n",
    "    watershed_last = data[1]['watershed'][0][-1]\n",
    "\n",
    "    binary = data[1]['binary'][pos_to_show].squeeze(0)\n",
    "    lines = data[1]['lines'][pos_to_show].squeeze(0)\n",
    "    borders = data[1]['border_mask'][pos_to_show].squeeze(0)\n",
    "    word_polygons = data[1]['word_polygons'][pos_to_show]\n",
    "\n",
    "    if idx % interval == (interval - 1):\n",
    "        print(f\"{data[1].keys()=}\")\n",
    "\n",
    "        #         print(f\"{background_ratio(thresh)=}\")\n",
    "        print(f\"{background_ratio(binary)=}\")\n",
    "        print(f\"{background_ratio(lines)=}\")\n",
    "        print()\n",
    "\n",
    "        visualize(original, 'original', cmap='gray')\n",
    "        visualize(binary, 'binary')\n",
    "        visualize(lines, 'lines')\n",
    "        visualize(borders, 'borders')\n",
    "        #         visualize(instance, 'instance')\n",
    "        #         visualize(thresh, 'thresh')\n",
    "        visualize(watershed_first, 'watershed_masks_0')\n",
    "        visualize(watershed_last, 'watershed_masks_last')\n",
    "\n",
    "        import numpy as np\n",
    "        import matplotlib.pyplot as plt\n",
    "        import matplotlib.patches as patches\n",
    "\n",
    "        image = np.zeros((768, 768), dtype=np.uint8)\n",
    "\n",
    "        fig, ax = plt.subplots()\n",
    "        ax.imshow(image)\n",
    "\n",
    "        for polygon in word_polygons:\n",
    "            from shapely.geometry import Polygon\n",
    "\n",
    "            if len(polygon) == 0: continue\n",
    "            poly = patches.Polygon(polygon, closed=True, edgecolor='r', alpha=0.5)\n",
    "            ax.add_patch(poly)\n",
    "\n",
    "        plt.axis('off')\n",
    "        plt.show()\n",
    "\n",
    "    #     black_pixels_thresh.update(background_ratio(thresh))\n",
    "    black_pixels_binary.update(background_ratio(binary))\n",
    "    black_pixels_lines.update(background_ratio(lines))\n",
    "\n",
    "# print(f\"{black_pixels_thresh.avg=}\")\n",
    "print(f\"{black_pixels_lines.avg=}\")\n",
    "print(f\"{black_pixels_binary.avg=}\")"
   ],
   "metadata": {
    "collapsed": false,
    "ExecuteTime": {
     "end_time": "2024-05-16T13:45:33.779101100Z",
     "start_time": "2024-05-16T13:45:33.668142600Z"
    }
   },
   "id": "1e921fd4993f6758",
   "execution_count": 31
  }
 ],
 "metadata": {
  "kernelspec": {
   "display_name": "Python 3 (ipykernel)",
   "language": "python",
   "name": "python3"
  },
  "language_info": {
   "codemirror_mode": {
    "name": "ipython",
    "version": 3
   },
   "file_extension": ".py",
   "mimetype": "text/x-python",
   "name": "python",
   "nbconvert_exporter": "python",
   "pygments_lexer": "ipython3",
   "version": "3.10.11"
  }
 },
 "nbformat": 4,
 "nbformat_minor": 5
}
