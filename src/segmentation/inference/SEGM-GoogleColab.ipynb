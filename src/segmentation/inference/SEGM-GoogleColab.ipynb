{
 "cells": [
  {
   "cell_type": "markdown",
   "id": "fc8693a1",
   "metadata": {},
   "source": [
    "# Google Colab demo\n",
    "\n",
    "To enable GPU:\n",
    "Runtime -> Change runtime type -> GPU"
   ]
  },
  {
   "cell_type": "code",
   "execution_count": null,
   "id": "4fd4728c",
   "metadata": {},
   "outputs": [],
   "source": [
    "! pip install onnxruntime\n",
    "! pip install openvino\n",
    "! pip install huggingface_hub\n",
    "\n",
    "! git clone https://github.com/ai-forever/SEGM-model.git"
   ]
  },
  {
   "cell_type": "code",
   "execution_count": null,
   "id": "4c9bc216",
   "metadata": {},
   "outputs": [],
   "source": [
    "import sys\n",
    "sys.path.append('SEGM-model/')\n",
    "\n",
    "import cv2\n",
    "from matplotlib import pyplot as plt\n",
    "import numpy as np\n",
    "\n",
    "from huggingface_hub import hf_hub_download\n",
    "\n",
    "from segm.predictor import SegmPredictor"
   ]
  },
  {
   "cell_type": "code",
   "execution_count": null,
   "id": "5119f5cc",
   "metadata": {},
   "outputs": [],
   "source": [
    "repo_id = \"sberbank-ai/ReadingPipeline-Peter\"\n",
    "\n",
    "IMG_PATH = hf_hub_download(repo_id, \"0_0.jpg\")\n",
    "\n",
    "MODEL_PATH = hf_hub_download(repo_id, \"segm/segm_model.ckpt\")\n",
    "CONFIG_PATH = hf_hub_download(repo_id, \"segm/segm_config.json\")\n",
    "\n",
    "NUM_THREADS = 8\n",
    "\n",
    "DEVICE = 'cuda'\n",
    "\n",
    "RUNTIME = 'Pytorch'"
   ]
  },
  {
   "cell_type": "code",
   "execution_count": null,
   "id": "bb5a0690",
   "metadata": {},
   "outputs": [],
   "source": [
    "predictor = SegmPredictor(\n",
    "    model_path=MODEL_PATH,\n",
    "    config_path=CONFIG_PATH,\n",
    "    num_threads=NUM_THREADS,\n",
    "    device=DEVICE,\n",
    "    runtime=RUNTIME\n",
    ")"
   ]
  },
  {
   "cell_type": "code",
   "execution_count": null,
   "id": "14668964",
   "metadata": {},
   "outputs": [],
   "source": [
    "image = cv2.imread(IMG_PATH)\n",
    "\n",
    "pred_data = predictor([image])"
   ]
  },
  {
   "cell_type": "code",
   "execution_count": null,
   "id": "3eaa842e",
   "metadata": {},
   "outputs": [],
   "source": [
    "pred_img = pred_data[0]\n",
    "\n",
    "image = cv2.imread(IMG_PATH)\n",
    "image = cv2.cvtColor(image, cv2.COLOR_BGR2RGB)\n",
    "for prediction in pred_img['predictions']:\n",
    "    if prediction['class_name'] == 'shrinked_text':\n",
    "      contour = prediction['polygon']\n",
    "      cv2.drawContours(image, np.array([contour]), -1, (255, 0, 255), 3)\n",
    "\n",
    "plt.figure(figsize=(8, 8))\n",
    "plt.imshow(image)\n",
    "plt.show()"
   ]
  }
 ],
 "metadata": {
  "kernelspec": {
   "display_name": "Python 3 (ipykernel)",
   "language": "python",
   "name": "python3"
  },
  "language_info": {
   "codemirror_mode": {
    "name": "ipython",
    "version": 3
   },
   "file_extension": ".py",
   "mimetype": "text/x-python",
   "name": "python",
   "nbconvert_exporter": "python",
   "pygments_lexer": "ipython3",
   "version": "3.9.5"
  }
 },
 "nbformat": 4,
 "nbformat_minor": 5
}
