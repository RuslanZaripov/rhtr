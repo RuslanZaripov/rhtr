{
 "cells": [
  {
   "cell_type": "code",
   "outputs": [],
   "source": [
    "%load_ext autoreload\n",
    "%autoreload 2"
   ],
   "metadata": {
    "collapsed": false,
    "ExecuteTime": {
     "end_time": "2024-03-15T08:17:46.459386200Z",
     "start_time": "2024-03-15T08:17:46.323931800Z"
    }
   },
   "id": "70764f5bdacb9dff",
   "execution_count": 1
  },
  {
   "cell_type": "code",
   "execution_count": 2,
   "id": "initial_id",
   "metadata": {
    "collapsed": true,
    "ExecuteTime": {
     "end_time": "2024-03-15T08:18:04.710139200Z",
     "start_time": "2024-03-15T08:17:46.463146900Z"
    }
   },
   "outputs": [],
   "source": [
    "import cv2\n",
    "import json\n",
    "from tqdm import tqdm\n",
    "import os\n",
    "\n",
    "from src.pipeline.pipelinepredictor import PipelinePredictor\n",
    "from src.pipeline.utils import get_image_visualization\n",
    "\n",
    "import os\n",
    "os.chdir('C:\\\\Users\\\\rusla\\\\Desktop\\\\ITMO\\\\7-sem\\\\thesis\\\\rhtr')"
   ]
  },
  {
   "cell_type": "code",
   "outputs": [],
   "source": [
    "PIPELINE_CONFIG_PATH = 'src/pipeline/scripts/pipeline_config.json'\n",
    "\n",
    "# Path to json with segmentation dataset annotation in COCO format\n",
    "DATA_JSON_PATH = 'data/raw/school_notebooks_RU/annotations_test.json'\n",
    "\n",
    "# Path to folder with evaluation images\n",
    "IMAGE_ROOT = 'data/raw/school_notebooks_RU/images'\n",
    "\n",
    "# Folder to save prediction json (one for each image)\n",
    "SAVE_FOLDER = 'data/metrics'"
   ],
   "metadata": {
    "collapsed": false,
    "ExecuteTime": {
     "end_time": "2024-03-15T08:18:05.945818300Z",
     "start_time": "2024-03-15T08:18:04.697524200Z"
    }
   },
   "id": "93706e6d03278848",
   "execution_count": 3
  },
  {
   "cell_type": "code",
   "outputs": [
    {
     "name": "stdout",
     "output_type": "stream",
     "text": [
      "cwd='C:\\\\Users\\\\rusla\\\\Desktop\\\\ITMO\\\\7-sem\\\\thesis\\\\rhtr' config_path='models/segmentation/3/segm_config.json'\n"
     ]
    },
    {
     "name": "stderr",
     "output_type": "stream",
     "text": [
      "C:\\Users\\rusla\\Desktop\\ITMO\\7-sem\\thesis\\rhtr\\.venv\\lib\\site-packages\\torchvision\\models\\_utils.py:208: UserWarning: The parameter 'pretrained' is deprecated since 0.13 and may be removed in the future, please use 'weights' instead.\n",
      "  warnings.warn(\n",
      "C:\\Users\\rusla\\Desktop\\ITMO\\7-sem\\thesis\\rhtr\\.venv\\lib\\site-packages\\torchvision\\models\\_utils.py:223: UserWarning: Arguments other than a weight enum or `None` for 'weights' are deprecated since 0.13 and may be removed in the future. The current behavior is equivalent to passing `weights=None`.\n",
      "  warnings.warn(msg)\n"
     ]
    }
   ],
   "source": [
    "predictor = PipelinePredictor(PIPELINE_CONFIG_PATH)"
   ],
   "metadata": {
    "collapsed": false,
    "ExecuteTime": {
     "end_time": "2024-03-15T08:18:09.472526300Z",
     "start_time": "2024-03-15T08:18:05.931345Z"
    }
   },
   "id": "c4f9285acc3022c6",
   "execution_count": 4
  },
  {
   "cell_type": "code",
   "outputs": [],
   "source": [
    "import numpy as np\n",
    "class NumpyEncoder(json.JSONEncoder):\n",
    "    def default(self, obj):\n",
    "        if isinstance(obj, np.ndarray):\n",
    "            return obj.tolist()\n",
    "        return json.JSONEncoder.default(self, obj)"
   ],
   "metadata": {
    "collapsed": false,
    "ExecuteTime": {
     "end_time": "2024-03-15T08:18:20.446117700Z",
     "start_time": "2024-03-15T08:18:09.213070500Z"
    }
   },
   "id": "4363f6a151c9930e",
   "execution_count": 5
  },
  {
   "cell_type": "code",
   "outputs": [
    {
     "name": "stderr",
     "output_type": "stream",
     "text": [
      "  0%|          | 0/150 [00:00<?, ?it/s]C:\\Users\\rusla\\Desktop\\ITMO\\7-sem\\thesis\\rhtr\\.venv\\lib\\site-packages\\numpy\\core\\fromnumeric.py:3504: RuntimeWarning: Mean of empty slice.\n",
      "  return _methods._mean(a, axis=axis, dtype=dtype,\n",
      "C:\\Users\\rusla\\Desktop\\ITMO\\7-sem\\thesis\\rhtr\\.venv\\lib\\site-packages\\numpy\\core\\_methods.py:129: RuntimeWarning: invalid value encountered in scalar divide\n",
      "  ret = ret.dtype.type(ret / rcount)\n"
     ]
    },
    {
     "name": "stdout",
     "output_type": "stream",
     "text": [
      "len(images)=29\n",
      "images[0].shape=(187, 537, 3)\n"
     ]
    },
    {
     "name": "stderr",
     "output_type": "stream",
     "text": [
      "  0%|          | 0/150 [00:52<?, ?it/s]\n"
     ]
    },
    {
     "ename": "KeyboardInterrupt",
     "evalue": "",
     "output_type": "error",
     "traceback": [
      "\u001B[1;31m---------------------------------------------------------------------------\u001B[0m",
      "\u001B[1;31mKeyboardInterrupt\u001B[0m                         Traceback (most recent call last)",
      "Cell \u001B[1;32mIn[7], line 19\u001B[0m\n\u001B[0;32m     16\u001B[0m pred_json_path \u001B[38;5;241m=\u001B[39m os\u001B[38;5;241m.\u001B[39mpath\u001B[38;5;241m.\u001B[39mjoin(SAVE_FOLDER, pred_json_name)\n\u001B[0;32m     18\u001B[0m \u001B[38;5;28;01mwith\u001B[39;00m \u001B[38;5;28mopen\u001B[39m(pred_json_path, \u001B[38;5;124m'\u001B[39m\u001B[38;5;124mw\u001B[39m\u001B[38;5;124m'\u001B[39m) \u001B[38;5;28;01mas\u001B[39;00m f:\n\u001B[1;32m---> 19\u001B[0m     \u001B[43mjson\u001B[49m\u001B[38;5;241;43m.\u001B[39;49m\u001B[43mdump\u001B[49m\u001B[43m(\u001B[49m\u001B[43mpred_data\u001B[49m\u001B[43m,\u001B[49m\u001B[43m \u001B[49m\u001B[43mf\u001B[49m\u001B[43m,\u001B[49m\u001B[43m \u001B[49m\u001B[38;5;28;43mcls\u001B[39;49m\u001B[38;5;241;43m=\u001B[39;49m\u001B[43mNumpyEncoder\u001B[49m\u001B[43m)\u001B[49m\n",
      "File \u001B[1;32mC:\\Program Files\\WindowsApps\\PythonSoftwareFoundation.Python.3.10_3.10.3056.0_x64__qbz5n2kfra8p0\\lib\\json\\__init__.py:180\u001B[0m, in \u001B[0;36mdump\u001B[1;34m(obj, fp, skipkeys, ensure_ascii, check_circular, allow_nan, cls, indent, separators, default, sort_keys, **kw)\u001B[0m\n\u001B[0;32m    177\u001B[0m \u001B[38;5;66;03m# could accelerate with writelines in some versions of Python, at\u001B[39;00m\n\u001B[0;32m    178\u001B[0m \u001B[38;5;66;03m# a debuggability cost\u001B[39;00m\n\u001B[0;32m    179\u001B[0m \u001B[38;5;28;01mfor\u001B[39;00m chunk \u001B[38;5;129;01min\u001B[39;00m iterable:\n\u001B[1;32m--> 180\u001B[0m     \u001B[43mfp\u001B[49m\u001B[38;5;241;43m.\u001B[39;49m\u001B[43mwrite\u001B[49m\u001B[43m(\u001B[49m\u001B[43mchunk\u001B[49m\u001B[43m)\u001B[49m\n",
      "\u001B[1;31mKeyboardInterrupt\u001B[0m: "
     ]
    },
    {
     "name": "stdout",
     "output_type": "stream",
     "text": [
      "Error in callback <function flush_figures at 0x0000023686D7C280> (for post_execute), with arguments args (),kwargs {}:\n"
     ]
    },
    {
     "name": "stderr",
     "output_type": "stream",
     "text": [
      "\n",
      "KeyboardInterrupt\n",
      "\n"
     ]
    }
   ],
   "source": [
    "os.makedirs(SAVE_FOLDER, exist_ok=True)\n",
    "\n",
    "with open(DATA_JSON_PATH, 'r') as f:\n",
    "    data = json.load(f)\n",
    "\n",
    "for idx, data_img in enumerate(tqdm(data['images'])):\n",
    "    if idx == 2: break\n",
    "    img_name = data_img['file_name']\n",
    "    image = cv2.imread(str(os.path.join(IMAGE_ROOT, img_name)))\n",
    "\n",
    "    rotated_image, pred_data = predictor.predict(image)\n",
    "    \n",
    "    # print(f\"{pred_data}\")\n",
    "\n",
    "    pred_json_name = os.path.splitext(img_name)[0] + '.json'\n",
    "    pred_json_path = os.path.join(SAVE_FOLDER, pred_json_name)\n",
    "    \n",
    "    with open(pred_json_path, 'w') as f:\n",
    "        json.dump(pred_data, f, cls=NumpyEncoder)"
   ],
   "metadata": {
    "collapsed": false,
    "ExecuteTime": {
     "end_time": "2024-03-15T08:23:59.724209500Z",
     "start_time": "2024-03-15T08:22:53.285148400Z"
    }
   },
   "id": "92e9c183255c219f",
   "execution_count": 7
  },
  {
   "cell_type": "code",
   "outputs": [],
   "source": [
    "!python evaluate.py \\\n",
    "    --annotation_json_path {DATA_JSON_PATH} \\\n",
    "    --ann_class_names pupil_text pupil_comment teacher_comment \\\n",
    "    --pred_class_names shrinked_pupil_text shrinked_comments \\\n",
    "    --pred_jsons_dir {SAVE_FOLDER}"
   ],
   "metadata": {
    "collapsed": false
   },
   "id": "c9751764918cf799"
  }
 ],
 "metadata": {
  "kernelspec": {
   "display_name": "Python 3",
   "language": "python",
   "name": "python3"
  },
  "language_info": {
   "codemirror_mode": {
    "name": "ipython",
    "version": 2
   },
   "file_extension": ".py",
   "mimetype": "text/x-python",
   "name": "python",
   "nbconvert_exporter": "python",
   "pygments_lexer": "ipython2",
   "version": "2.7.6"
  }
 },
 "nbformat": 4,
 "nbformat_minor": 5
}
