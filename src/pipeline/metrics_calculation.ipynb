{
 "cells": [
  {
   "cell_type": "code",
   "outputs": [],
   "source": [
    "%load_ext autoreload\n",
    "%autoreload 2"
   ],
   "metadata": {
    "collapsed": false,
    "ExecuteTime": {
     "end_time": "2024-03-15T08:17:46.459386200Z",
     "start_time": "2024-03-15T08:17:46.323931800Z"
    }
   },
   "id": "70764f5bdacb9dff",
   "execution_count": 1
  },
  {
   "cell_type": "code",
   "execution_count": 2,
   "id": "initial_id",
   "metadata": {
    "collapsed": true,
    "ExecuteTime": {
     "end_time": "2024-03-15T08:18:04.710139200Z",
     "start_time": "2024-03-15T08:17:46.463146900Z"
    }
   },
   "outputs": [],
   "source": [
    "import cv2\n",
    "import json\n",
    "from tqdm import tqdm\n",
    "import os\n",
    "\n",
    "from src.pipeline.pipelinepredictor import PipelinePredictor\n",
    "from src.pipeline.utils import get_image_visualization\n",
    "\n",
    "import os\n",
    "os.chdir('C:\\\\Users\\\\rusla\\\\Desktop\\\\ITMO\\\\7-sem\\\\thesis\\\\rhtr')"
   ]
  },
  {
   "cell_type": "code",
   "outputs": [],
   "source": [
    "PIPELINE_CONFIG_PATH = 'src/pipeline/scripts/pipeline_config.json'\n",
    "\n",
    "# Path to json with segmentation dataset annotation in COCO format\n",
    "DATA_JSON_PATH = 'data/raw/school_notebooks_RU/annotations_test.json'\n",
    "\n",
    "# Path to folder with evaluation images\n",
    "IMAGE_ROOT = 'data/raw/school_notebooks_RU/images'\n",
    "\n",
    "# Folder to save prediction json (one for each image)\n",
    "SAVE_FOLDER = 'data/metrics'"
   ],
   "metadata": {
    "collapsed": false,
    "ExecuteTime": {
     "end_time": "2024-03-15T08:18:05.945818300Z",
     "start_time": "2024-03-15T08:18:04.697524200Z"
    }
   },
   "id": "93706e6d03278848",
   "execution_count": 3
  },
  {
   "cell_type": "code",
   "outputs": [
    {
     "name": "stdout",
     "output_type": "stream",
     "text": [
      "cwd='C:\\\\Users\\\\rusla\\\\Desktop\\\\ITMO\\\\7-sem\\\\thesis\\\\rhtr' config_path='models/segmentation/3/segm_config.json'\n"
     ]
    },
    {
     "name": "stderr",
     "output_type": "stream",
     "text": [
      "C:\\Users\\rusla\\Desktop\\ITMO\\7-sem\\thesis\\rhtr\\.venv\\lib\\site-packages\\torchvision\\models\\_utils.py:208: UserWarning: The parameter 'pretrained' is deprecated since 0.13 and may be removed in the future, please use 'weights' instead.\n",
      "  warnings.warn(\n",
      "C:\\Users\\rusla\\Desktop\\ITMO\\7-sem\\thesis\\rhtr\\.venv\\lib\\site-packages\\torchvision\\models\\_utils.py:223: UserWarning: Arguments other than a weight enum or `None` for 'weights' are deprecated since 0.13 and may be removed in the future. The current behavior is equivalent to passing `weights=None`.\n",
      "  warnings.warn(msg)\n"
     ]
    }
   ],
   "source": [
    "predictor = PipelinePredictor(PIPELINE_CONFIG_PATH)"
   ],
   "metadata": {
    "collapsed": false,
    "ExecuteTime": {
     "end_time": "2024-03-15T08:18:09.472526300Z",
     "start_time": "2024-03-15T08:18:05.931345Z"
    }
   },
   "id": "c4f9285acc3022c6",
   "execution_count": 4
  },
  {
   "cell_type": "code",
   "outputs": [],
   "source": [
    "import numpy as np\n",
    "class NumpyEncoder(json.JSONEncoder):\n",
    "    def default(self, obj):\n",
    "        if isinstance(obj, np.ndarray):\n",
    "            return obj.tolist()\n",
    "        return json.JSONEncoder.default(self, obj)"
   ],
   "metadata": {
    "collapsed": false,
    "ExecuteTime": {
     "end_time": "2024-03-15T08:18:20.446117700Z",
     "start_time": "2024-03-15T08:18:09.213070500Z"
    }
   },
   "id": "4363f6a151c9930e",
   "execution_count": 5
  },
  {
   "cell_type": "code",
   "outputs": [
    {
     "name": "stderr",
     "output_type": "stream",
     "text": [
      "  0%|          | 0/150 [00:00<?, ?it/s]"
     ]
    },
    {
     "name": "stdout",
     "output_type": "stream",
     "text": [
      "dict_keys(['polygon', 'bbox', 'class_name', 'rotated_polygon', 'rotated_bbox', 'crop', 'text', 'polygon_center'])\n"
     ]
    },
    {
     "name": "stderr",
     "output_type": "stream",
     "text": [
      "  1%|          | 1/150 [00:52<2:10:12, 52.43s/it]"
     ]
    },
    {
     "name": "stdout",
     "output_type": "stream",
     "text": [
      "dict_keys(['polygon', 'bbox', 'class_name', 'rotated_polygon', 'rotated_bbox', 'crop', 'text', 'polygon_center'])\n"
     ]
    },
    {
     "name": "stderr",
     "output_type": "stream",
     "text": [
      "  1%|▏         | 2/150 [02:52<3:32:34, 86.18s/it]\n"
     ]
    }
   ],
   "source": [
    "os.makedirs(SAVE_FOLDER, exist_ok=True)\n",
    "\n",
    "with open(DATA_JSON_PATH, 'r') as f:\n",
    "    data = json.load(f)\n",
    "\n",
    "for idx, data_img in enumerate(tqdm(data['images'])):\n",
    "    if idx == 2: break\n",
    "    img_name = data_img['file_name']\n",
    "    image = cv2.imread(str(os.path.join(IMAGE_ROOT, img_name)))\n",
    "\n",
    "    rotated_image, pred_data = predictor.predict(image)\n",
    "    \n",
    "    print(f\"{pred_data['predictions'][0].keys()}\")\n",
    "\n",
    "    pred_json_name = os.path.splitext(img_name)[0] + '.json'\n",
    "    pred_json_path = os.path.join(SAVE_FOLDER, pred_json_name)\n",
    "    \n",
    "    with open(pred_json_path, 'w') as f:\n",
    "        json.dump(pred_data, f, cls=NumpyEncoder)"
   ],
   "metadata": {
    "collapsed": false,
    "ExecuteTime": {
     "end_time": "2024-03-15T12:47:26.599146900Z",
     "start_time": "2024-03-15T12:44:31.065770300Z"
    }
   },
   "id": "92e9c183255c219f",
   "execution_count": 14
  },
  {
   "cell_type": "code",
   "outputs": [
    {
     "name": "stdout",
     "output_type": "stream",
     "text": [
      "acc_avg.avg=0.02727272727272727 wer_avg.avg=0.981651376146789 cer_avg.avg=0.9968152866242039\n",
      "acc_avg.avg=0.022292993630573247 wer_avg.avg=0.9871396477577986 cer_avg.avg=0.9746022191434857\n",
      "acc: 0.0223\n",
      "wer: 0.9871\n",
      "cer: 0.9746\n"
     ]
    },
    {
     "name": "stderr",
     "output_type": "stream",
     "text": [
      "\n",
      "  0%|          | 0/150 [00:00<?, ?it/s]\n",
      "  1%|          | 1/150 [00:08<21:52,  8.81s/it]\n",
      "  1%|▏         | 2/150 [01:42<2:24:36, 58.62s/it]\n",
      "  2%|▏         | 3/150 [01:44<1:20:32, 32.88s/it]\n",
      " 14%|█▍        | 21/150 [01:44<05:33,  2.59s/it] \n",
      " 20%|██        | 30/150 [01:44<03:07,  1.56s/it]\n",
      " 25%|██▌       | 38/150 [01:44<01:57,  1.05s/it]\n",
      " 37%|███▋      | 56/150 [01:44<00:47,  1.97it/s]\n",
      " 51%|█████     | 76/150 [01:45<00:20,  3.57it/s]\n",
      " 62%|██████▏   | 93/150 [01:45<00:10,  5.46it/s]\n",
      " 73%|███████▎  | 110/150 [01:45<00:04,  8.09it/s]\n",
      " 85%|████████▌ | 128/150 [01:45<00:01, 11.92it/s]\n",
      " 96%|█████████▌| 144/150 [01:45<00:00, 16.45it/s]\n",
      "100%|██████████| 150/150 [01:45<00:00,  1.42it/s]\n"
     ]
    }
   ],
   "source": [
    "!python src/pipeline/evaluate.py \\\n",
    "    --annotation_json_path {DATA_JSON_PATH} \\\n",
    "    --ann_class_names pupil_text pupil_comment teacher_comment \\\n",
    "    --pred_class_names handwritten_text_shrinked_mask1 \\\n",
    "    --pred_jsons_dir {SAVE_FOLDER}"
   ],
   "metadata": {
    "collapsed": false,
    "ExecuteTime": {
     "end_time": "2024-03-15T12:49:19.585726100Z",
     "start_time": "2024-03-15T12:47:29.266511500Z"
    }
   },
   "id": "c9751764918cf799",
   "execution_count": 15
  },
  {
   "cell_type": "code",
   "outputs": [],
   "source": [],
   "metadata": {
    "collapsed": false
   },
   "id": "14040920ef06d36c"
  }
 ],
 "metadata": {
  "kernelspec": {
   "display_name": "Python 3",
   "language": "python",
   "name": "python3"
  },
  "language_info": {
   "codemirror_mode": {
    "name": "ipython",
    "version": 2
   },
   "file_extension": ".py",
   "mimetype": "text/x-python",
   "name": "python",
   "nbconvert_exporter": "python",
   "pygments_lexer": "ipython2",
   "version": "2.7.6"
  }
 },
 "nbformat": 4,
 "nbformat_minor": 5
}
