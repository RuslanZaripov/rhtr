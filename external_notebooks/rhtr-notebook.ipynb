{
 "metadata": {
  "colab": {
   "provenance": [],
   "gpuType": "T4"
  },
  "kernelspec": {
   "name": "python3",
   "display_name": "Python 3",
   "language": "python"
  },
  "language_info": {
   "name": "python",
   "version": "3.10.13",
   "mimetype": "text/x-python",
   "codemirror_mode": {
    "name": "ipython",
    "version": 3
   },
   "pygments_lexer": "ipython3",
   "nbconvert_exporter": "python",
   "file_extension": ".py"
  },
  "accelerator": "GPU",
  "kaggle": {
   "accelerator": "nvidiaTeslaT4",
   "dataSources": [
    {
     "sourceId": 7726686,
     "sourceType": "datasetVersion",
     "datasetId": 4514255
    }
   ],
   "dockerImageVersionId": 30646,
   "isInternetEnabled": true,
   "language": "python",
   "sourceType": "notebook",
   "isGpuEnabled": true
  }
 },
 "nbformat_minor": 4,
 "nbformat": 4,
 "cells": [
  {
   "cell_type": "markdown",
   "source": [
    "# For kaggle downloading"
   ],
   "metadata": {}
  },
  {
   "cell_type": "code",
   "source": [
    "!pip install gdown > /dev/null"
   ],
   "metadata": {
    "execution": {
     "iopub.status.busy": "2024-02-29T10:35:44.882776Z",
     "iopub.execute_input": "2024-02-29T10:35:44.883138Z",
     "iopub.status.idle": "2024-02-29T10:35:59.590737Z",
     "shell.execute_reply.started": "2024-02-29T10:35:44.883107Z",
     "shell.execute_reply": "2024-02-29T10:35:59.589423Z"
    },
    "trusted": true
   },
   "execution_count": 1,
   "outputs": []
  },
  {
   "cell_type": "code",
   "source": [
    "# !gdown --id <File ID>\n",
    "# https://drive.google.com/file/d/1Q2cOZEt8UJbwjJkztri6T74gY61LUT6p/view?usp=sharing\n",
    "!gdown 1Q2cOZEt8UJbwjJkztri6T74gY61LUT6p"
   ],
   "metadata": {
    "execution": {
     "iopub.status.busy": "2024-02-29T10:36:01.183634Z",
     "iopub.execute_input": "2024-02-29T10:36:01.184051Z",
     "iopub.status.idle": "2024-02-29T10:36:31.246745Z",
     "shell.execute_reply.started": "2024-02-29T10:36:01.184005Z",
     "shell.execute_reply": "2024-02-29T10:36:31.245647Z"
    },
    "trusted": true
   },
   "execution_count": 2,
   "outputs": [
    {
     "name": "stdout",
     "text": "Downloading...\nFrom (original): https://drive.google.com/uc?id=1Q2cOZEt8UJbwjJkztri6T74gY61LUT6p\nFrom (redirected): https://drive.google.com/uc?id=1Q2cOZEt8UJbwjJkztri6T74gY61LUT6p&confirm=t&uuid=b779ff64-7ba4-4e38-a729-ff3d73b795d0\nTo: /kaggle/working/school_notebooks_RU.zip\n100%|███████████████████████████████████████| 3.53G/3.53G [00:27<00:00, 126MB/s]\n",
     "output_type": "stream"
    }
   ]
  },
  {
   "cell_type": "code",
   "source": [
    "!git lfs install\n",
    "!git clone https://huggingface.co/datasets/ai-forever/school_notebooks_EN /kaggle/working/school_notebooks_EN"
   ],
   "metadata": {
    "execution": {
     "iopub.status.busy": "2024-03-01T10:27:28.850278Z",
     "iopub.execute_input": "2024-03-01T10:27:28.851006Z",
     "iopub.status.idle": "2024-03-01T10:27:35.602438Z",
     "shell.execute_reply.started": "2024-03-01T10:27:28.850979Z",
     "shell.execute_reply": "2024-03-01T10:27:35.601352Z"
    },
    "trusted": true
   },
   "execution_count": 1,
   "outputs": [
    {
     "name": "stdout",
     "text": "Error: Failed to call git rev-parse --git-dir: exit status 128 \nGit LFS initialized.\nCloning into '/kaggle/working/school_notebooks_EN'...\nremote: Enumerating objects: 34, done.\u001B[K\nremote: Total 34 (delta 0), reused 0 (delta 0), pack-reused 34\u001B[K\nUnpacking objects: 100% (34/34), 3.98 MiB | 5.93 MiB/s, done.\n",
     "output_type": "stream"
    }
   ]
  },
  {
   "cell_type": "markdown",
   "source": [
    "# For google colab "
   ],
   "metadata": {}
  },
  {
   "cell_type": "code",
   "source": [
    "from google.colab import drive\n",
    "drive.mount('/content/drive')"
   ],
   "metadata": {
    "id": "5M3aYjt6CaJB",
    "outputId": "b7627519-8fc9-474b-935d-1a9f33e3648b",
    "trusted": true
   },
   "execution_count": null,
   "outputs": []
  },
  {
   "cell_type": "markdown",
   "source": [
    "# Track changes"
   ],
   "metadata": {}
  },
  {
   "cell_type": "code",
   "source": [
    "%load_ext autoreload\n",
    "%autoreload 2"
   ],
   "metadata": {
    "id": "nrpvnhJvCher",
    "execution": {
     "iopub.status.busy": "2024-03-01T10:28:06.010737Z",
     "iopub.execute_input": "2024-03-01T10:28:06.011106Z",
     "iopub.status.idle": "2024-03-01T10:28:06.038019Z",
     "shell.execute_reply.started": "2024-03-01T10:28:06.011074Z",
     "shell.execute_reply": "2024-03-01T10:28:06.037194Z"
    },
    "trusted": true
   },
   "execution_count": 2,
   "outputs": []
  },
  {
   "cell_type": "code",
   "source": [
    "import os\n",
    "from getpass import getpass\n",
    "token = getpass('GitHub PAT')\n",
    "os.environ['PAT'] = token\n",
    "!git clone https://$PAT@github.com/RuslanZaripov/rhtr.git"
   ],
   "metadata": {
    "id": "0F0ONqtwClue",
    "outputId": "bbc619ce-d16c-400c-c368-e278a94e2863",
    "execution": {
     "iopub.status.busy": "2024-03-01T10:28:06.450504Z",
     "iopub.execute_input": "2024-03-01T10:28:06.450854Z",
     "iopub.status.idle": "2024-03-01T10:28:14.822015Z",
     "shell.execute_reply.started": "2024-03-01T10:28:06.450829Z",
     "shell.execute_reply": "2024-03-01T10:28:14.820904Z"
    },
    "trusted": true
   },
   "execution_count": 3,
   "outputs": [
    {
     "output_type": "stream",
     "name": "stdin",
     "text": "GitHub PAT ········································\n"
    },
    {
     "name": "stdout",
     "text": "Cloning into 'rhtr'...\nremote: Enumerating objects: 257, done.\u001B[K\nremote: Counting objects: 100% (257/257), done.\u001B[K\nremote: Compressing objects: 100% (145/145), done.\u001B[K\nremote: Total 257 (delta 169), reused 187 (delta 99), pack-reused 0\u001B[K\nReceiving objects: 100% (257/257), 11.05 MiB | 25.42 MiB/s, done.\nResolving deltas: 100% (169/169), done.\n",
     "output_type": "stream"
    }
   ]
  },
  {
   "cell_type": "code",
   "source": [
    "%cd /kaggle/working/rhtr\n",
    "!git restore .\n",
    "!git pull\n",
    "%cd /kaggle/working"
   ],
   "metadata": {
    "execution": {
     "iopub.status.busy": "2024-03-01T11:00:32.011957Z",
     "iopub.execute_input": "2024-03-01T11:00:32.012661Z",
     "iopub.status.idle": "2024-03-01T11:00:34.443749Z",
     "shell.execute_reply.started": "2024-03-01T11:00:32.012624Z",
     "shell.execute_reply": "2024-03-01T11:00:34.442708Z"
    },
    "trusted": true
   },
   "execution_count": 48,
   "outputs": [
    {
     "name": "stdout",
     "text": "/kaggle/working/rhtr\nremote: Enumerating objects: 9, done.\u001B[K\nremote: Counting objects: 100% (9/9), done.\u001B[K\nremote: Compressing objects: 100% (1/1), done.\u001B[K\nremote: Total 5 (delta 4), reused 5 (delta 4), pack-reused 0\u001B[K\nUnpacking objects: 100% (5/5), 402 bytes | 402.00 KiB/s, done.\nFrom https://github.com/RuslanZaripov/rhtr\n   52fa6d6..74ff513  main       -> origin/main\nUpdating 52fa6d6..74ff513\nFast-forward\n src/segmentation/dataset.py | 4 \u001B[32m++\u001B[m\u001B[31m--\u001B[m\n 1 file changed, 2 insertions(+), 2 deletions(-)\n/kaggle/working\n",
     "output_type": "stream"
    }
   ]
  },
  {
   "cell_type": "markdown",
   "source": [
    "# Unzip imported dataset into separate folder"
   ],
   "metadata": {
    "id": "21NknEv8fD6m"
   }
  },
  {
   "cell_type": "code",
   "source": [
    "!unzip -o -q '/kaggle/working/school_notebooks_EN/images.zip' -d '/kaggle/working/school_notebooks_EN' > /dev/null"
   ],
   "metadata": {
    "id": "quQlPH_TC9aT",
    "execution": {
     "iopub.status.busy": "2024-03-01T10:28:21.370318Z",
     "iopub.execute_input": "2024-03-01T10:28:21.370774Z",
     "iopub.status.idle": "2024-03-01T10:28:25.802821Z",
     "shell.execute_reply.started": "2024-03-01T10:28:21.370741Z",
     "shell.execute_reply": "2024-03-01T10:28:25.801814Z"
    },
    "trusted": true
   },
   "execution_count": 4,
   "outputs": []
  },
  {
   "cell_type": "code",
   "source": [
    "!rm -rf '/kaggle/working/school_notebooks_EN/images.zip'"
   ],
   "metadata": {
    "execution": {
     "iopub.status.busy": "2024-03-01T10:28:25.805162Z",
     "iopub.execute_input": "2024-03-01T10:28:25.805659Z",
     "iopub.status.idle": "2024-03-01T10:28:26.837233Z",
     "shell.execute_reply.started": "2024-03-01T10:28:25.805617Z",
     "shell.execute_reply": "2024-03-01T10:28:26.835739Z"
    },
    "trusted": true
   },
   "execution_count": 5,
   "outputs": []
  },
  {
   "cell_type": "code",
   "source": [
    "# !cp -r /kaggle/input/processed-school-notebooks/* /kaggle/working\n",
    "\n",
    "from distutils.dir_util import copy_tree\n",
    "copy_tree(\"/kaggle/input/processed-school-notebooks-ru\", \"/kaggle/working\")"
   ],
   "metadata": {
    "trusted": true
   },
   "execution_count": null,
   "outputs": []
  },
  {
   "cell_type": "code",
   "source": [
    "!unzip -o -q '/kaggle/working/school_notebooks_RU.zip' -d '/kaggle/working/school_notebooks_RU' > /dev/null"
   ],
   "metadata": {
    "execution": {
     "iopub.status.busy": "2024-02-29T10:37:21.908797Z",
     "iopub.execute_input": "2024-02-29T10:37:21.909518Z",
     "iopub.status.idle": "2024-02-29T10:38:18.534594Z",
     "shell.execute_reply.started": "2024-02-29T10:37:21.909481Z",
     "shell.execute_reply": "2024-02-29T10:38:18.533301Z"
    },
    "trusted": true
   },
   "execution_count": 8,
   "outputs": []
  },
  {
   "cell_type": "code",
   "source": [
    "!rm -rf '/kaggle/working/school_notebooks_RU.zip'"
   ],
   "metadata": {
    "execution": {
     "iopub.status.busy": "2024-02-29T10:38:41.216297Z",
     "iopub.execute_input": "2024-02-29T10:38:41.217100Z",
     "iopub.status.idle": "2024-02-29T10:38:42.737018Z",
     "shell.execute_reply.started": "2024-02-29T10:38:41.217056Z",
     "shell.execute_reply": "2024-02-29T10:38:42.735849Z"
    },
    "trusted": true
   },
   "execution_count": 9,
   "outputs": []
  },
  {
   "cell_type": "markdown",
   "source": [
    "# If you need to arrange folders correctly use the code below"
   ],
   "metadata": {
    "id": "K46S7Oknf7oh"
   }
  },
  {
   "cell_type": "code",
   "source": [
    "!mkdir /kaggle/working/school_notebooks_RU # create folder where data will be stored"
   ],
   "metadata": {
    "execution": {
     "iopub.status.busy": "2024-02-29T10:38:49.739231Z",
     "iopub.execute_input": "2024-02-29T10:38:49.740052Z",
     "iopub.status.idle": "2024-02-29T10:38:50.719525Z",
     "shell.execute_reply.started": "2024-02-29T10:38:49.740001Z",
     "shell.execute_reply": "2024-02-29T10:38:50.718443Z"
    },
    "trusted": true
   },
   "execution_count": 10,
   "outputs": [
    {
     "name": "stdout",
     "text": "mkdir: cannot create directory '/kaggle/working/school_notebooks_RU': File exists\n",
     "output_type": "stream"
    }
   ]
  },
  {
   "cell_type": "code",
   "source": [
    "!cp -r /kaggle/working/school_notebooks_RU/content/magazine/* /kaggle/working/school_notebooks_RU"
   ],
   "metadata": {
    "id": "kMi7aJjCfULS",
    "execution": {
     "iopub.status.busy": "2024-02-29T10:39:43.402060Z",
     "iopub.execute_input": "2024-02-29T10:39:43.402760Z",
     "iopub.status.idle": "2024-02-29T10:40:00.216490Z",
     "shell.execute_reply.started": "2024-02-29T10:39:43.402725Z",
     "shell.execute_reply": "2024-02-29T10:40:00.215070Z"
    },
    "trusted": true
   },
   "execution_count": 11,
   "outputs": []
  },
  {
   "cell_type": "code",
   "source": [
    "!rm -rf /kaggle/working/school_notebooks_RU/content/"
   ],
   "metadata": {
    "id": "Ba5Sx3prfxWg",
    "execution": {
     "iopub.status.busy": "2024-02-29T10:40:09.486830Z",
     "iopub.execute_input": "2024-02-29T10:40:09.487192Z",
     "iopub.status.idle": "2024-02-29T10:40:11.403374Z",
     "shell.execute_reply.started": "2024-02-29T10:40:09.487163Z",
     "shell.execute_reply": "2024-02-29T10:40:11.402212Z"
    },
    "trusted": true
   },
   "execution_count": 12,
   "outputs": []
  },
  {
   "cell_type": "markdown",
   "source": [
    "# Upload annotations to /content/magazine and split them if needed"
   ],
   "metadata": {
    "id": "fNpsG3SGM0PL"
   }
  },
  {
   "cell_type": "code",
   "source": [
    "!pip install funcy > /dev/null\n",
    "!pip install scikit-multilearn > /dev/null"
   ],
   "metadata": {
    "id": "cuzrrpJtHUiM"
   },
   "execution_count": null,
   "outputs": []
  },
  {
   "cell_type": "code",
   "source": [
    "!python /content/rhtr/src/segmentation/scripts/cocosplit.py --having-annotations --multi-class -s 0.8 /content/magazine/annotations.json /content/magazine/annotations_train.json /content/magazine/annotations_test.json"
   ],
   "metadata": {
    "id": "VGSv0j_PGOjk",
    "outputId": "fc98ab39-27e6-42cb-ef28-7e248cdd78a0"
   },
   "execution_count": null,
   "outputs": []
  },
  {
   "cell_type": "code",
   "source": [
    "!python /content/rhtr/src/segmentation/scripts/cocosplit.py --having-annotations --multi-class -s 0.8 /content/magazine/annotations_train.json /content/magazine/annotations_train.json /content/magazine/annotations_val.json"
   ],
   "metadata": {
    "id": "HfQ5GYUvHSGF",
    "outputId": "d0bbdd5b-9b7d-4623-8373-6129e341a872"
   },
   "execution_count": null,
   "outputs": []
  },
  {
   "cell_type": "markdown",
   "source": [
    "# Specify python path"
   ],
   "metadata": {
    "id": "VEs-MJ_qgO8B"
   }
  },
  {
   "cell_type": "code",
   "source": [
    "import os\n",
    "os.environ['PYTHONPATH'] += \":/kaggle/working/rhtr\""
   ],
   "metadata": {
    "id": "-FHXn2_CKCxl",
    "execution": {
     "iopub.status.busy": "2024-03-01T10:30:11.035532Z",
     "iopub.execute_input": "2024-03-01T10:30:11.036231Z",
     "iopub.status.idle": "2024-03-01T10:30:11.054727Z",
     "shell.execute_reply.started": "2024-03-01T10:30:11.036199Z",
     "shell.execute_reply": "2024-03-01T10:30:11.053932Z"
    },
    "trusted": true
   },
   "execution_count": 7,
   "outputs": []
  },
  {
   "cell_type": "code",
   "source": [
    "!echo $PYTHONPATH"
   ],
   "metadata": {
    "id": "hgG4gRO_KE3m",
    "outputId": "c5100fd3-8fb8-404e-931b-da8ed9293423",
    "execution": {
     "iopub.status.busy": "2024-03-01T10:30:11.301507Z",
     "iopub.execute_input": "2024-03-01T10:30:11.302052Z",
     "iopub.status.idle": "2024-03-01T10:30:12.284968Z",
     "shell.execute_reply.started": "2024-03-01T10:30:11.302023Z",
     "shell.execute_reply": "2024-03-01T10:30:12.284051Z"
    },
    "trusted": true
   },
   "execution_count": 8,
   "outputs": [
    {
     "name": "stdout",
     "text": "/kaggle/lib/kagglegym:/kaggle/lib:/kaggle/working/rhtr\n",
     "output_type": "stream"
    }
   ]
  },
  {
   "cell_type": "code",
   "source": [
    "!pip install pyclipper > /dev/null"
   ],
   "metadata": {
    "id": "G0HEWzNdKJhO",
    "execution": {
     "iopub.status.busy": "2024-03-01T10:30:12.287099Z",
     "iopub.execute_input": "2024-03-01T10:30:12.287800Z",
     "iopub.status.idle": "2024-03-01T10:30:25.973789Z",
     "shell.execute_reply.started": "2024-03-01T10:30:12.287761Z",
     "shell.execute_reply": "2024-03-01T10:30:25.972693Z"
    },
    "trusted": true
   },
   "execution_count": 9,
   "outputs": []
  },
  {
   "cell_type": "markdown",
   "source": [
    "# Edit config file"
   ],
   "metadata": {}
  },
  {
   "cell_type": "code",
   "source": [
    "write = '''\n",
    "{\n",
    "    \"save_dir\": \"/kaggle/working/experiments/segm\",\n",
    "    \"tensorboard_log_dir\": \"/kaggle/working/tensorboard/log\",\n",
    "    \"num_epochs\": 1500,\n",
    "    \"pretrain_path\": \"\",\n",
    "    \"image\": {\n",
    "        \"width\": 896,\n",
    "        \"height\": 896\n",
    "    },\n",
    "    \"classes\": {\n",
    "        \"class_name_1\": {\n",
    "            \"annotation_classes\": [\"pupil_text\", \"pupil_comment\", \"teacher_comment\"],\n",
    "            \"polygon2mask\": {\n",
    "                \"ShrinkMaskMaker\": {\n",
    "                    \"shrink_ratio\": 0.8\n",
    "                }\n",
    "            },\n",
    "            \"postprocess\": {\n",
    "                \"threshold\": 0.3,\n",
    "                \"min_area\": 10\n",
    "            }\n",
    "        },\n",
    "        \"class_name_2\": {\n",
    "            \"annotation_classes\": [\"pupil_text\", \"pupil_comment\", \"teacher_comment\"],\n",
    "            \"polygon2mask\": {\n",
    "                \"BorderMaskMaker\": {\n",
    "                    \"shrink_ratio\": 0.5\n",
    "                }\n",
    "            },\n",
    "            \"postprocess\": {\n",
    "                \"threshold\": 0.8,\n",
    "                \"min_area\": 10\n",
    "            }\n",
    "        },\n",
    "        \"class_name_3\": {\n",
    "            \"annotation_classes\": [\"text_line\"],\n",
    "            \"polygon2mask\": {\n",
    "                \"PolylineToMask\": {\n",
    "                    \"thickness\": 10\n",
    "                }\n",
    "            },\n",
    "            \"postprocess\": {\n",
    "                \"threshold\": 0.8,\n",
    "                \"min_area\": 1\n",
    "            }\n",
    "        }\n",
    "    },\n",
    "    \"train\": {\n",
    "        \"datasets\": [\n",
    "            {\n",
    "                \"json_path\": \"/kaggle/working/school_notebooks_RU/annotations_train.json\",\n",
    "                \"image_root\": \"/kaggle/working/school_notebooks_RU/images/\",\n",
    "                \"processed_data_path\": \"/kaggle/working/school_notebooks_RU/annotations_train.csv\",\n",
    "                \"prob\": 0.5\n",
    "            },\n",
    "            {\n",
    "                \"json_path\": \"/kaggle/working/school_notebooks_EN/annotations_train.json\",\n",
    "                \"image_root\": \"/kaggle/working/school_notebooks_EN/images/\",\n",
    "                \"processed_data_path\": \"/kaggle/working/school_notebooks_EN/annotations_train.csv\",\n",
    "                \"prob\": 0.5\n",
    "            }\n",
    "        ],\n",
    "        \"epoch_size\": 125,\n",
    "        \"batch_size\": 4\n",
    "    },\n",
    "    \"val\": {\n",
    "        \"datasets\": [\n",
    "            {\n",
    "                \"json_path\": \"/kaggle/working/school_notebooks_RU/annotations_val.json\",\n",
    "                \"image_root\": \"/kaggle/working/school_notebooks_RU/images/\",\n",
    "                \"processed_data_path\": \"/kaggle/working/school_notebooks_RU/annotations_val.csv\",\n",
    "                \"prob\": 0.5\n",
    "            },\n",
    "            {\n",
    "                \"json_path\": \"/kaggle/working/school_notebooks_EN/annotations_val.json\",\n",
    "                \"image_root\": \"/kaggle/working/school_notebooks_EN/images/\",\n",
    "                \"processed_data_path\": \"/kaggle/working/school_notebooks_EN/annotations_val.csv\",\n",
    "                \"prob\": 0.5\n",
    "            }\n",
    "        ],\n",
    "        \"epoch_size\": null,\n",
    "        \"batch_size\": 10\n",
    "    },\n",
    "    \"test\": {\n",
    "        \"datasets\": [\n",
    "            {\n",
    "                \"json_path\": \"/kaggle/working/school_notebooks_RU/annotations_test.json\",\n",
    "                \"image_root\": \"/kaggle/working/school_notebooks_RU/images/\",\n",
    "                \"processed_data_path\": \"/kaggle/working/school_notebooks_RU/annotations_test.csv\",\n",
    "                \"prob\": 0.5\n",
    "            },\n",
    "            {\n",
    "                \"json_path\": \"/kaggle/working/school_notebooks_EN/annotations_test.json\",\n",
    "                \"image_root\": \"/kaggle/working/school_notebooks_EN/images/\",\n",
    "                \"processed_data_path\": \"/kaggle/working/school_notebooks_EN/annotations_test.csv\",\n",
    "                \"prob\": 0.5\n",
    "            }\n",
    "        ],\n",
    "        \"epoch_size\": null,\n",
    "        \"batch_size\": 10\n",
    "    }\n",
    "}\n",
    "'''\n",
    "with open(\"/kaggle/working/rhtr/src/segmentation/configs/segm_kaggle.json\", \"w\") as file:\n",
    "    file.write(write)"
   ],
   "metadata": {
    "execution": {
     "iopub.status.busy": "2024-03-01T11:00:38.903584Z",
     "iopub.execute_input": "2024-03-01T11:00:38.903936Z",
     "iopub.status.idle": "2024-03-01T11:00:38.928757Z",
     "shell.execute_reply.started": "2024-03-01T11:00:38.903907Z",
     "shell.execute_reply": "2024-03-01T11:00:38.927416Z"
    },
    "trusted": true
   },
   "execution_count": 49,
   "outputs": []
  },
  {
   "cell_type": "code",
   "source": [
    "!cat /kaggle/working/rhtr/src/segmentation/configs/segm_kaggle.json"
   ],
   "metadata": {
    "execution": {
     "iopub.status.busy": "2024-03-01T11:00:39.096911Z",
     "iopub.execute_input": "2024-03-01T11:00:39.097257Z",
     "iopub.status.idle": "2024-03-01T11:00:40.067292Z",
     "shell.execute_reply.started": "2024-03-01T11:00:39.097229Z",
     "shell.execute_reply": "2024-03-01T11:00:40.066342Z"
    },
    "trusted": true
   },
   "execution_count": 50,
   "outputs": [
    {
     "name": "stdout",
     "text": "\n{\n    \"save_dir\": \"/kaggle/working/experiments/segm\",\n    \"tensorboard_log_dir\": \"/kaggle/working/tensorboard/log\",\n    \"num_epochs\": 1500,\n    \"pretrain_path\": \"\",\n    \"image\": {\n        \"width\": 896,\n        \"height\": 896\n    },\n    \"classes\": {\n        \"class_name_1\": {\n            \"annotation_classes\": [\"pupil_text\", \"pupil_comment\", \"teacher_comment\"],\n            \"polygon2mask\": {\n                \"ShrinkMaskMaker\": {\n                    \"shrink_ratio\": 0.8\n                }\n            },\n            \"postprocess\": {\n                \"threshold\": 0.3,\n                \"min_area\": 10\n            }\n        },\n        \"class_name_2\": {\n            \"annotation_classes\": [\"pupil_text\", \"pupil_comment\", \"teacher_comment\"],\n            \"polygon2mask\": {\n                \"BorderMaskMaker\": {\n                    \"shrink_ratio\": 0.5\n                }\n            },\n            \"postprocess\": {\n                \"threshold\": 0.8,\n                \"min_area\": 10\n            }\n        },\n        \"class_name_3\": {\n            \"annotation_classes\": [\"text_line\"],\n            \"polygon2mask\": {\n                \"PolylineToMask\": {\n                    \"thickness\": 10\n                }\n            },\n            \"postprocess\": {\n                \"threshold\": 0.8,\n                \"min_area\": 1\n            }\n        }\n    },\n    \"train\": {\n        \"datasets\": [\n            {\n                \"json_path\": \"/kaggle/working/school_notebooks_RU/annotations_train.json\",\n                \"image_root\": \"/kaggle/working/school_notebooks_RU/images/\",\n                \"processed_data_path\": \"/kaggle/working/school_notebooks_RU/annotations_train.csv\",\n                \"prob\": 0.5\n            },\n            {\n                \"json_path\": \"/kaggle/working/school_notebooks_EN/annotations_train.json\",\n                \"image_root\": \"/kaggle/working/school_notebooks_EN/images/\",\n                \"processed_data_path\": \"/kaggle/working/school_notebooks_EN/annotations_train.csv\",\n                \"prob\": 0.5\n            }\n        ],\n        \"epoch_size\": 125,\n        \"batch_size\": 4\n    },\n    \"val\": {\n        \"datasets\": [\n            {\n                \"json_path\": \"/kaggle/working/school_notebooks_RU/annotations_val.json\",\n                \"image_root\": \"/kaggle/working/school_notebooks_RU/images/\",\n                \"processed_data_path\": \"/kaggle/working/school_notebooks_RU/annotations_val.csv\",\n                \"prob\": 0.5\n            },\n            {\n                \"json_path\": \"/kaggle/working/school_notebooks_EN/annotations_val.json\",\n                \"image_root\": \"/kaggle/working/school_notebooks_EN/images/\",\n                \"processed_data_path\": \"/kaggle/working/school_notebooks_EN/annotations_val.csv\",\n                \"prob\": 0.5\n            }\n        ],\n        \"epoch_size\": null,\n        \"batch_size\": 10\n    },\n    \"test\": {\n        \"datasets\": [\n            {\n                \"json_path\": \"/kaggle/working/school_notebooks_RU/annotations_test.json\",\n                \"image_root\": \"/kaggle/working/school_notebooks_RU/images/\",\n                \"processed_data_path\": \"/kaggle/working/school_notebooks_RU/annotations_test.csv\",\n                \"prob\": 0.5\n            },\n            {\n                \"json_path\": \"/kaggle/working/school_notebooks_EN/annotations_test.json\",\n                \"image_root\": \"/kaggle/working/school_notebooks_EN/images/\",\n                \"processed_data_path\": \"/kaggle/working/school_notebooks_EN/annotations_test.csv\",\n                \"prob\": 0.5\n            }\n        ],\n        \"epoch_size\": null,\n        \"batch_size\": 10\n    }\n}\n",
     "output_type": "stream"
    }
   ]
  },
  {
   "cell_type": "markdown",
   "source": [
    "# Preprocess data"
   ],
   "metadata": {
    "id": "tNgU67d5gujm"
   }
  },
  {
   "cell_type": "markdown",
   "source": [
    "# REMEMBER TO CHANGE CONFIGURATION AFTER PREPROCESSING"
   ],
   "metadata": {}
  },
  {
   "cell_type": "code",
   "source": [
    "!python /kaggle/working/rhtr/src/segmentation/scripts/prepare_dataset.py --config_path /kaggle/working/rhtr/src/segmentation/configs/segm_kaggle.json"
   ],
   "metadata": {
    "id": "4mtSOf3yIIp7",
    "outputId": "d8b5c4c0-6bf9-4dfe-e331-abf43d8fa0d6",
    "scrolled": true,
    "execution": {
     "iopub.status.busy": "2024-03-01T10:35:52.829469Z",
     "iopub.execute_input": "2024-03-01T10:35:52.829830Z",
     "iopub.status.idle": "2024-03-01T10:37:33.121336Z",
     "shell.execute_reply.started": "2024-03-01T10:35:52.829802Z",
     "shell.execute_reply": "2024-03-01T10:37:33.120230Z"
    },
    "trusted": true
   },
   "execution_count": 22,
   "outputs": [
    {
     "name": "stdout",
     "text": "cwd='/kaggle/working' config_path='/kaggle/working/rhtr/src/segmentation/configs/segm_kaggle.json'\n  4%|█▉                                          | 3/70 [00:01<00:36,  1.83it/s]/kaggle/working/rhtr/src/segmentation/dataset.py:296: RuntimeWarning: invalid value encountered in divide\n  u = u1 / (np.square(x1 - x2) + np.square(y1 - y2))\n100%|███████████████████████████████████████████| 70/70 [01:15<00:00,  1.08s/it]\n100%|███████████████████████████████████████████| 10/10 [00:13<00:00,  1.37s/it]\n100%|███████████████████████████████████████████| 10/10 [00:07<00:00,  1.43it/s]\n",
     "output_type": "stream"
    }
   ]
  },
  {
   "cell_type": "markdown",
   "source": [
    "# Save preprocessed data to zip folder and upload to google drive"
   ],
   "metadata": {
    "id": "L-XxWwU4gTtp"
   }
  },
  {
   "cell_type": "code",
   "source": [
    "!zip -r /content/school_notebooks_RU.zip /content/magazine > /dev/null"
   ],
   "metadata": {
    "id": "FoMB34KCYFvU"
   },
   "execution_count": null,
   "outputs": []
  },
  {
   "cell_type": "code",
   "source": [
    "import shutil\n",
    "shutil.copy(\"/content/school_notebooks_RU.zip\",\"/content/drive/MyDrive/data\")"
   ],
   "metadata": {
    "id": "ayTg3pmBaevS",
    "outputId": "0eca052f-ecf5-4d26-9015-5a94d0209d7c"
   },
   "execution_count": null,
   "outputs": []
  },
  {
   "cell_type": "markdown",
   "source": [
    "# Start train process"
   ],
   "metadata": {
    "id": "q2N3xdzvgZhB"
   }
  },
  {
   "cell_type": "code",
   "source": [
    "!pip install tensorboardX > /dev/null"
   ],
   "metadata": {
    "id": "EZeTWSl5riVc",
    "execution": {
     "iopub.status.busy": "2024-03-01T10:33:09.012056Z",
     "iopub.execute_input": "2024-03-01T10:33:09.012496Z",
     "iopub.status.idle": "2024-03-01T10:33:21.310631Z",
     "shell.execute_reply.started": "2024-03-01T10:33:09.012460Z",
     "shell.execute_reply": "2024-03-01T10:33:21.309557Z"
    },
    "trusted": true
   },
   "execution_count": 13,
   "outputs": []
  },
  {
   "cell_type": "code",
   "source": [
    "!rm -rf '/kaggle/working/experiments/segm'\n",
    "!rm -rf '/kaggle/working/tensorboard/log'"
   ],
   "metadata": {
    "id": "NouCDt61piJt",
    "execution": {
     "iopub.status.busy": "2024-03-01T11:46:26.220410Z",
     "iopub.execute_input": "2024-03-01T11:46:26.221136Z",
     "iopub.status.idle": "2024-03-01T11:46:28.529361Z",
     "shell.execute_reply.started": "2024-03-01T11:46:26.221102Z",
     "shell.execute_reply": "2024-03-01T11:46:28.528036Z"
    },
    "trusted": true
   },
   "execution_count": 98,
   "outputs": []
  },
  {
   "cell_type": "code",
   "source": [
    "%matplotlib inline\n",
    "import matplotlib.pyplot as plt"
   ],
   "metadata": {
    "execution": {
     "iopub.status.busy": "2024-03-01T11:41:01.449385Z",
     "iopub.execute_input": "2024-03-01T11:41:01.449806Z",
     "iopub.status.idle": "2024-03-01T11:41:01.472372Z",
     "shell.execute_reply.started": "2024-03-01T11:41:01.449770Z",
     "shell.execute_reply": "2024-03-01T11:41:01.471393Z"
    },
    "trusted": true
   },
   "execution_count": 93,
   "outputs": []
  },
  {
   "cell_type": "code",
   "source": [
    "write = '''\n",
    "import torch\n",
    "import os\n",
    "import math\n",
    "import logging\n",
    "import time\n",
    "import numpy as np\n",
    "\n",
    "from tqdm import tqdm\n",
    "\n",
    "from src.segmentation.metrics import get_iou, get_f1_score, AverageMeter, IOUMetric, dice_loss\n",
    "from src.segmentation.predictor import predict\n",
    "\n",
    "\n",
    "def configure_logging(log_path=None):\n",
    "    logger = logging.getLogger(__name__)\n",
    "\n",
    "    if len(logger.handlers) > 0:\n",
    "        return logger\n",
    "\n",
    "    logger.setLevel(logging.DEBUG)\n",
    "    formatter = logging.Formatter(\n",
    "        fmt='%(asctime)s - %(levelname)s - %(message)s',\n",
    "        datefmt='%d-%b-%y %H:%M:%S'\n",
    "    )\n",
    "    # Setup console logging\n",
    "    sh = logging.StreamHandler()\n",
    "    sh.setLevel(logging.DEBUG)\n",
    "    sh.setFormatter(formatter)\n",
    "    logger.addHandler(sh)\n",
    "    # Setup file logging as well\n",
    "    if log_path is not None:\n",
    "        fh = logging.FileHandler(log_path)\n",
    "        fh.setLevel(logging.DEBUG)\n",
    "        fh.setFormatter(formatter)\n",
    "        logger.addHandler(fh)\n",
    "    return logger\n",
    "\n",
    "\n",
    "def val_loop(data_loader, model, criterion, device, epoch, class_names, logger, writer=None):\n",
    "    loss_avg = AverageMeter('Loss', ':.4e')\n",
    "    iou = AverageMeter('IOU', ':6.2f')\n",
    "    cls2iou = {class_name: IOUMetric(class_idx)\n",
    "               for class_idx, class_name in enumerate(class_names)}\n",
    "    f1_score_avg = AverageMeter('F1 score', ':6.2f')\n",
    "    strat_time = time.time()\n",
    "\n",
    "    tqdm_data_loader = tqdm(data_loader, total=len(data_loader), leave=False)\n",
    "    for images, targets in tqdm_data_loader:\n",
    "        preds, targets = predict(images, model, device, targets)\n",
    "        batch_size = len(images)\n",
    "\n",
    "        thresh_binary = preds[:, -1:, :, :]\n",
    "        preds = preds[:, :-1, :, :]\n",
    "\n",
    "        loss = criterion(preds, targets) + dice_loss(thresh_binary, targets[:, 0, :, :])\n",
    "\n",
    "        loss_avg.update(loss.item(), batch_size)\n",
    "        iou.update(get_iou(preds, targets), batch_size)\n",
    "        f1_score_avg.update(get_f1_score(preds, targets), batch_size)\n",
    "        for cls_name in class_names:\n",
    "            cls2iou[cls_name].update(preds, targets)\n",
    "\n",
    "    loop_time = sec2min(time.time() - strat_time)\n",
    "    cls2iou_log = ', '.join([f'{class_name}: {iou}'\n",
    "                             for class_name, iou in cls2iou.items()])\n",
    "    logger.info(f'Validation: {loss_avg}, {iou}, {cls2iou_log}, {f1_score_avg}, loop_time: {loop_time}')\n",
    "\n",
    "    if writer is not None:\n",
    "        writer.add_scalar('Loss/val', loss_avg.avg, epoch)\n",
    "        writer.add_scalar('IOU/val', iou.avg, epoch)\n",
    "        writer.add_scalar('F1_score/val', f1_score_avg.avg, epoch)\n",
    "        writer.add_scalars('IOU/val_cls', {cls_name: iou_fun.avg() for cls_name, iou_fun in cls2iou.items()}, epoch)\n",
    "\n",
    "    return loss_avg.avg\n",
    "\n",
    "\n",
    "def sec2min(s):\n",
    "    m = math.floor(s / 60)\n",
    "    s -= m * 60\n",
    "    return '%dm %ds' % (m, s)\n",
    "\n",
    "\n",
    "class FilesLimitControl:\n",
    "    \"\"\"Delete files from the disk if there are more files than the set limit.\n",
    "    Args:\n",
    "        max_weights_to_save (int, optional): The number of files that will be\n",
    "            stored on the disk at the same time. Default is 3.\n",
    "    \"\"\"\n",
    "\n",
    "    def __init__(self, logger=None, max_weights_to_save=2):\n",
    "        self.saved_weights_paths = []\n",
    "        self.max_weights_to_save = max_weights_to_save\n",
    "        self.logger = logger if logger is not None else configure_logging()\n",
    "\n",
    "    def __call__(self, save_path):\n",
    "        self.saved_weights_paths.append(save_path)\n",
    "        if len(self.saved_weights_paths) > self.max_weights_to_save:\n",
    "            old_weights_path = self.saved_weights_paths.pop(0)\n",
    "            if os.path.exists(old_weights_path):\n",
    "                os.remove(old_weights_path)\n",
    "                self.logger.info(f\"Weigths removed '{old_weights_path}'\")\n",
    "\n",
    "\n",
    "def load_pretrain_model(weights_path, model, logger=None):\n",
    "    \"\"\"Load the entire pretrain model or as many layers as possible.\n",
    "    \"\"\"\n",
    "    old_dict = torch.load(weights_path)\n",
    "    new_dict = model.state_dict()\n",
    "    if logger is None:\n",
    "        logger = configure_logging()\n",
    "    for key, weights in new_dict.items():\n",
    "        if key in old_dict:\n",
    "            if new_dict[key].shape == old_dict[key].shape:\n",
    "                new_dict[key] = old_dict[key]\n",
    "            else:\n",
    "                logger.info('Weights {} were not loaded'.format(key))\n",
    "        else:\n",
    "            logger.info('Weights {} were not loaded'.format(key))\n",
    "    return new_dict\n",
    "\n",
    "\n",
    "\"\"\"\n",
    "Source: https://stackoverflow.com/questions/71998978/early-stopping-in-pytorch\n",
    "\n",
    "Early stops the training if validation loss doesn't improve after a given patience.\n",
    "Source: https://github.com/Bjarten/early-stopping-pytorch/blob/master/pytorchtools.py\n",
    "Usage: https://github.com/Bjarten/early-stopping-pytorch/blob/master/MNIST_Early_Stopping_example.ipynb\n",
    " \n",
    "Another source: https://github.com/jeffheaton/app_deep_learning/blob/main/t81_558_class_03_4_early_stop.ipynb\n",
    "where best model restoring happens as a feature\n",
    "\"\"\"\n",
    "\n",
    "\n",
    "class EarlyStopping:\n",
    "    def __init__(self, patience=5, min_delta=0,\n",
    "                 logger=None,\n",
    "                 load_best_weights=True,\n",
    "                 control_files_limit=True):\n",
    "        \"\"\"\n",
    "        Args:\n",
    "            patience (int):\n",
    "                How long to wait after last time validation loss improved.\n",
    "                Default: 7\n",
    "            min_delta (float):\n",
    "                Minimum change in the monitored quantity to qualify as an improvement.\n",
    "                Should be a positive number.\n",
    "                Default: 0\n",
    "            logger (logging.Logger):\n",
    "                Logger object to use for logging. If None, no logging is done.\n",
    "        \"\"\"\n",
    "        self.patience = patience\n",
    "        self.min_delta = min_delta\n",
    "        self.best_loss = np.inf\n",
    "        self.counter = 0\n",
    "\n",
    "        self.load_best_weights = load_best_weights\n",
    "        self.logger = logger if logger is not None else configure_logging()\n",
    "        self.file_limit_control = FilesLimitControl(logger=self.logger) if control_files_limit else None\n",
    "\n",
    "    def is_loss_decreased(self, val_loss):\n",
    "        return self.best_loss - val_loss >= self.min_delta\n",
    "\n",
    "    def __call__(self, val_loss, checkpoint_path, model):\n",
    "        if self.is_loss_decreased(val_loss):\n",
    "            self.log_info(f'Validation loss decreased ({self.best_loss:.6f} --> {val_loss:.6f}).  Saving model ...')\n",
    "            self.best_loss = val_loss\n",
    "            self.counter = 0\n",
    "\n",
    "            self.save_checkpoint(model, checkpoint_path)\n",
    "        else:\n",
    "            self.counter += 1\n",
    "            if self.counter >= self.patience:\n",
    "                self.log_info(f'EarlyStopping triggered after {self.counter} epochs.')\n",
    "                if self.load_best_weights:\n",
    "                    model.load_state_dict(torch.load(checkpoint_path))\n",
    "                return True\n",
    "        return False\n",
    "\n",
    "    def log_info(self, message):\n",
    "        if self.logger is not None:\n",
    "            self.logger.info(message)\n",
    "\n",
    "    def save_checkpoint(self, model, checkpoint_path):\n",
    "        \"\"\"Saves model when validation loss decrease.\"\"\"\n",
    "        torch.save(model.state_dict(), checkpoint_path)\n",
    "        self.log_info(f'Model saved to {checkpoint_path}')\n",
    "        if self.file_limit_control is not None:\n",
    "            self.file_limit_control(checkpoint_path)\n",
    "\n",
    "'''\n",
    "with open(\"/kaggle/working/rhtr/src/segmentation/utils.py\", \"w\") as file:\n",
    "    file.write(write)"
   ],
   "metadata": {
    "execution": {
     "iopub.status.busy": "2024-03-01T11:47:17.761380Z",
     "iopub.execute_input": "2024-03-01T11:47:17.761777Z",
     "iopub.status.idle": "2024-03-01T11:47:17.790612Z",
     "shell.execute_reply.started": "2024-03-01T11:47:17.761747Z",
     "shell.execute_reply": "2024-03-01T11:47:17.789599Z"
    },
    "trusted": true
   },
   "execution_count": 99,
   "outputs": []
  },
  {
   "cell_type": "code",
   "source": [
    "import os\n",
    "os.chdir(\"/kaggle/working/school_notebooks_RU/targets\")\n",
    "os.path.exists('/kaggle/working/school_notebooks_RU/targets\\2764.npy')\n",
    "# os.listdir() # to see files in this directory"
   ],
   "metadata": {
    "execution": {
     "iopub.status.busy": "2024-03-01T11:02:07.804958Z",
     "iopub.execute_input": "2024-03-01T11:02:07.805238Z",
     "iopub.status.idle": "2024-03-01T11:02:07.826014Z",
     "shell.execute_reply.started": "2024-03-01T11:02:07.805214Z",
     "shell.execute_reply": "2024-03-01T11:02:07.825244Z"
    },
    "trusted": true
   },
   "execution_count": 55,
   "outputs": [
    {
     "execution_count": 55,
     "output_type": "execute_result",
     "data": {
      "text/plain": "False"
     },
     "metadata": {}
    }
   ]
  },
  {
   "cell_type": "code",
   "source": [
    "!cat /kaggle/working/rhtr/src/segmentation/dataset.py"
   ],
   "metadata": {
    "trusted": true
   },
   "execution_count": null,
   "outputs": []
  },
  {
   "cell_type": "code",
   "source": [
    "!python /kaggle/working/rhtr/src/segmentation/scripts/train.py --config_path /kaggle/working/rhtr/src/segmentation/configs/segm_kaggle.json"
   ],
   "metadata": {
    "id": "tqYljCDSJw3S",
    "outputId": "07785420-022a-4d17-adec-258057ef159c",
    "execution": {
     "iopub.status.busy": "2024-03-01T11:47:20.913803Z",
     "iopub.execute_input": "2024-03-01T11:47:20.914544Z",
     "iopub.status.idle": "2024-03-01T12:00:23.280626Z",
     "shell.execute_reply.started": "2024-03-01T11:47:20.914514Z",
     "shell.execute_reply": "2024-03-01T12:00:23.279416Z"
    },
    "trusted": true
   },
   "execution_count": 100,
   "outputs": [
    {
     "name": "stdout",
     "text": "cwd='/kaggle/working/school_notebooks_RU/targets' config_path='/kaggle/working/rhtr/src/segmentation/configs/segm_kaggle.json'\n/opt/conda/lib/python3.10/site-packages/torch/utils/data/dataloader.py:557: UserWarning: This DataLoader will create 8 worker processes in total. Our suggested max number of worker in current system is 4, which is smaller than what this DataLoader is going to create. Please be aware that excessive worker creation might get DataLoader running slow or even freeze, lower the worker number to avoid potential slowness/freeze if necessary.\n  warnings.warn(_create_warning_msg(\n/opt/conda/lib/python3.10/site-packages/torch/utils/data/dataloader.py:557: UserWarning: This DataLoader will create 8 worker processes in total. Our suggested max number of worker in current system is 4, which is smaller than what this DataLoader is going to create. Please be aware that excessive worker creation might get DataLoader running slow or even freeze, lower the worker number to avoid potential slowness/freeze if necessary.\n  warnings.warn(_create_warning_msg(\n/opt/conda/lib/python3.10/site-packages/torchvision/models/_utils.py:208: UserWarning: The parameter 'pretrained' is deprecated since 0.13 and may be removed in the future, please use 'weights' instead.\n  warnings.warn(\n/opt/conda/lib/python3.10/site-packages/torchvision/models/_utils.py:223: UserWarning: Arguments other than a weight enum or `None` for 'weights' are deprecated since 0.13 and may be removed in the future. The current behavior is equivalent to passing `weights=ResNet50_Weights.IMAGENET1K_V1`. You can also use `weights=ResNet50_Weights.DEFAULT` to get the most up-to-date weights.\n  warnings.warn(msg)\n01-Mar-24 11:47:48 - INFO - Validation: Loss 1.5024e+00 (1.4853e+00), IOU   0.11 (  0.12), class_name_1: IOU   0.15 (  0.16), class_name_2: IOU   0.13 (  0.14), class_name_3: IOU   0.06 (  0.06), F1 score   0.23 (  0.24), loop_time: 0m 17s\n01-Mar-24 11:47:48 - INFO - Validation loss decreased (inf --> 1.485279).  Saving model ...\n01-Mar-24 11:47:48 - INFO - Model saved to /kaggle/working/experiments/segm/2024-03-01_11-47-30/LinkResNet-0-1.4853.ckpt\n01-Mar-24 11:48:25 - INFO - Train: epoch 0, Loss 7.9809e-01 (1.2117e+00), IOU   0.22 (  0.16),  IOU class_name_1: 0.2451 IOU class_name_2: 0.0624 IOU class_name_3: 0.0439, F1 score   0.44 (  0.31), LR: 0.0010000, loop_time: 0m 37s\n01-Mar-24 11:48:43 - INFO - Validation: Loss 7.5283e-01 (7.4299e-01), IOU   0.21 (  0.22), class_name_1: IOU   0.38 (  0.40), class_name_2: IOU   0.09 (  0.08), class_name_3: IOU   0.00 (  0.00), F1 score   0.42 (  0.44), loop_time: 0m 17s\n01-Mar-24 11:48:43 - INFO - Validation loss decreased (1.485279 --> 0.742985).  Saving model ...\n01-Mar-24 11:48:43 - INFO - Model saved to /kaggle/working/experiments/segm/2024-03-01_11-47-30/LinkResNet-0-0.7430.ckpt\n01-Mar-24 11:49:19 - INFO - Train: epoch 1, Loss 6.6694e-01 (6.4912e-01), IOU   0.23 (  0.25),  IOU class_name_1: 0.3900 IOU class_name_2: 0.0735 IOU class_name_3: 0.1786, F1 score   0.47 (  0.51), LR: 0.0010000, loop_time: 0m 36s\n01-Mar-24 11:49:37 - INFO - Validation: Loss 7.6643e-01 (7.5843e-01), IOU   0.27 (  0.27), class_name_1: IOU   0.42 (  0.42), class_name_2: IOU   0.02 (  0.02), class_name_3: IOU   0.20 (  0.21), F1 score   0.54 (  0.54), loop_time: 0m 17s\n01-Mar-24 11:50:13 - INFO - Train: epoch 2, Loss 5.9117e-01 (6.0250e-01), IOU   0.28 (  0.27),  IOU class_name_1: 0.4010 IOU class_name_2: 0.0121 IOU class_name_3: 0.2389, F1 score   0.57 (  0.55), LR: 0.0010000, loop_time: 0m 35s\n01-Mar-24 11:50:30 - INFO - Validation: Loss 5.5160e-01 (5.5178e-01), IOU   0.27 (  0.28), class_name_1: IOU   0.42 (  0.42), class_name_2: IOU   0.03 (  0.03), class_name_3: IOU   0.19 (  0.20), F1 score   0.55 (  0.55), loop_time: 0m 17s\n01-Mar-24 11:50:30 - INFO - Validation loss decreased (0.742985 --> 0.551780).  Saving model ...\n01-Mar-24 11:50:30 - INFO - Model saved to /kaggle/working/experiments/segm/2024-03-01_11-47-30/LinkResNet-2-0.5518.ckpt\n01-Mar-24 11:50:30 - INFO - Weigths removed '/kaggle/working/experiments/segm/2024-03-01_11-47-30/LinkResNet-0-1.4853.ckpt'\n01-Mar-24 11:51:06 - INFO - Train: epoch 3, Loss 5.8895e-01 (6.0610e-01), IOU   0.26 (  0.27),  IOU class_name_1: 0.3940 IOU class_name_2: 0.0290 IOU class_name_3: 0.2423, F1 score   0.53 (  0.55), LR: 0.0010000, loop_time: 0m 35s\n01-Mar-24 11:51:23 - INFO - Validation: Loss 5.2374e-01 (5.2716e-01), IOU   0.28 (  0.28), class_name_1: IOU   0.42 (  0.43), class_name_2: IOU   0.05 (  0.05), class_name_3: IOU   0.20 (  0.21), F1 score   0.56 (  0.56), loop_time: 0m 17s\n01-Mar-24 11:51:23 - INFO - Validation loss decreased (0.551780 --> 0.527162).  Saving model ...\n01-Mar-24 11:51:24 - INFO - Model saved to /kaggle/working/experiments/segm/2024-03-01_11-47-30/LinkResNet-3-0.5272.ckpt\n01-Mar-24 11:51:24 - INFO - Weigths removed '/kaggle/working/experiments/segm/2024-03-01_11-47-30/LinkResNet-0-0.7430.ckpt'\n01-Mar-24 11:52:01 - INFO - Train: epoch 4, Loss 6.6958e-01 (6.1960e-01), IOU   0.26 (  0.28),  IOU class_name_1: 0.3935 IOU class_name_2: 0.0598 IOU class_name_3: 0.2434, F1 score   0.52 (  0.55), LR: 0.0010000, loop_time: 0m 36s\n01-Mar-24 11:52:18 - INFO - Validation: Loss 4.9620e-01 (5.2771e-01), IOU   0.30 (  0.29), class_name_1: IOU   0.43 (  0.42), class_name_2: IOU   0.11 (  0.10), class_name_3: IOU   0.22 (  0.22), F1 score   0.59 (  0.58), loop_time: 0m 17s\n01-Mar-24 11:52:54 - INFO - Train: epoch 5, Loss 5.6582e-01 (5.7679e-01), IOU   0.29 (  0.29),  IOU class_name_1: 0.4038 IOU class_name_2: 0.1092 IOU class_name_3: 0.2532, F1 score   0.58 (  0.59), LR: 0.0010000, loop_time: 0m 35s\n01-Mar-24 11:53:11 - INFO - Validation: Loss 6.0093e-01 (5.5006e-01), IOU   0.27 (  0.29), class_name_1: IOU   0.39 (  0.41), class_name_2: IOU   0.13 (  0.15), class_name_3: IOU   0.22 (  0.23), F1 score   0.55 (  0.59), loop_time: 0m 17s\n01-Mar-24 11:53:47 - INFO - Train: epoch 6, Loss 5.3727e-01 (5.5246e-01), IOU   0.34 (  0.32),  IOU class_name_1: 0.4095 IOU class_name_2: 0.2159 IOU class_name_3: 0.2528, F1 score   0.68 (  0.63), LR: 0.0010000, loop_time: 0m 35s\n01-Mar-24 11:54:04 - INFO - Validation: Loss 5.0689e-01 (4.9464e-01), IOU   0.34 (  0.35), class_name_1: IOU   0.42 (  0.43), class_name_2: IOU   0.30 (  0.32), class_name_3: IOU   0.24 (  0.23), F1 score   0.68 (  0.69), loop_time: 0m 17s\n01-Mar-24 11:54:04 - INFO - Validation loss decreased (0.527162 --> 0.494640).  Saving model ...\n01-Mar-24 11:54:05 - INFO - Model saved to /kaggle/working/experiments/segm/2024-03-01_11-47-30/LinkResNet-6-0.4946.ckpt\n01-Mar-24 11:54:05 - INFO - Weigths removed '/kaggle/working/experiments/segm/2024-03-01_11-47-30/LinkResNet-2-0.5518.ckpt'\n01-Mar-24 11:54:41 - INFO - Train: epoch 7, Loss 8.4247e-01 (5.7328e-01), IOU   0.29 (  0.32),  IOU class_name_1: 0.4029 IOU class_name_2: 0.2731 IOU class_name_3: 0.2494, F1 score   0.59 (  0.65), LR: 0.0010000, loop_time: 0m 36s\n01-Mar-24 11:54:58 - INFO - Validation: Loss 5.0522e-01 (5.0524e-01), IOU   0.36 (  0.35), class_name_1: IOU   0.43 (  0.42), class_name_2: IOU   0.34 (  0.33), class_name_3: IOU   0.23 (  0.24), F1 score   0.71 (  0.70), loop_time: 0m 17s\n01-Mar-24 11:55:36 - INFO - Train: epoch 8, Loss 4.9915e-01 (5.8183e-01), IOU   0.36 (  0.32),  IOU class_name_1: 0.3985 IOU class_name_2: 0.2802 IOU class_name_3: 0.2555, F1 score   0.71 (  0.65), LR: 0.0010000, loop_time: 0m 37s\n01-Mar-24 11:55:53 - INFO - Validation: Loss 4.7622e-01 (4.7194e-01), IOU   0.36 (  0.36), class_name_1: IOU   0.43 (  0.43), class_name_2: IOU   0.34 (  0.33), class_name_3: IOU   0.24 (  0.24), F1 score   0.72 (  0.71), loop_time: 0m 17s\n01-Mar-24 11:55:53 - INFO - Validation loss decreased (0.494640 --> 0.471936).  Saving model ...\n01-Mar-24 11:55:53 - INFO - Model saved to /kaggle/working/experiments/segm/2024-03-01_11-47-30/LinkResNet-8-0.4719.ckpt\n01-Mar-24 11:55:53 - INFO - Weigths removed '/kaggle/working/experiments/segm/2024-03-01_11-47-30/LinkResNet-3-0.5272.ckpt'\n01-Mar-24 11:56:30 - INFO - Train: epoch 9, Loss 7.5514e-01 (5.6027e-01), IOU   0.26 (  0.33),  IOU class_name_1: 0.4026 IOU class_name_2: 0.2885 IOU class_name_3: 0.2502, F1 score   0.53 (  0.66), LR: 0.0010000, loop_time: 0m 36s\n01-Mar-24 11:56:47 - INFO - Validation: Loss 4.9154e-01 (4.7821e-01), IOU   0.34 (  0.35), class_name_1: IOU   0.42 (  0.43), class_name_2: IOU   0.30 (  0.33), class_name_3: IOU   0.23 (  0.23), F1 score   0.69 (  0.70), loop_time: 0m 17s\n01-Mar-24 11:57:22 - INFO - Train: epoch 10, Loss 4.9277e-01 (5.5378e-01), IOU   0.36 (  0.33),  IOU class_name_1: 0.4060 IOU class_name_2: 0.2927 IOU class_name_3: 0.2491, F1 score   0.71 (  0.66), LR: 0.0010000, loop_time: 0m 35s\n01-Mar-24 11:57:40 - INFO - Validation: Loss 4.6330e-01 (4.7352e-01), IOU   0.36 (  0.36), class_name_1: IOU   0.43 (  0.43), class_name_2: IOU   0.34 (  0.33), class_name_3: IOU   0.25 (  0.25), F1 score   0.72 (  0.71), loop_time: 0m 17s\n01-Mar-24 11:58:17 - INFO - Train: epoch 11, Loss 5.0431e-01 (5.5176e-01), IOU   0.34 (  0.33),  IOU class_name_1: 0.4042 IOU class_name_2: 0.2927 IOU class_name_3: 0.2549, F1 score   0.67 (  0.66), LR: 0.0010000, loop_time: 0m 36s\n01-Mar-24 11:58:34 - INFO - Validation: Loss 4.9754e-01 (4.8885e-01), IOU   0.35 (  0.35), class_name_1: IOU   0.42 (  0.43), class_name_2: IOU   0.33 (  0.32), class_name_3: IOU   0.23 (  0.24), F1 score   0.70 (  0.70), loop_time: 0m 17s\n01-Mar-24 11:59:10 - INFO - Train: epoch 12, Loss 5.2413e-01 (5.4891e-01), IOU   0.35 (  0.33),  IOU class_name_1: 0.4035 IOU class_name_2: 0.2985 IOU class_name_3: 0.2567, F1 score   0.71 (  0.67), LR: 0.0010000, loop_time: 0m 35s\n01-Mar-24 11:59:27 - INFO - Validation: Loss 4.6479e-01 (4.7677e-01), IOU   0.36 (  0.36), class_name_1: IOU   0.43 (  0.43), class_name_2: IOU   0.35 (  0.33), class_name_3: IOU   0.24 (  0.25), F1 score   0.73 (  0.71), loop_time: 0m 17s\n01-Mar-24 12:00:04 - INFO - Train: epoch 13, Loss 5.3868e-01 (5.3749e-01), IOU   0.34 (  0.34),  IOU class_name_1: 0.4108 IOU class_name_2: 0.3048 IOU class_name_3: 0.2531, F1 score   0.68 (  0.68), LR: 0.0010000, loop_time: 0m 37s\n01-Mar-24 12:00:21 - INFO - Validation: Loss 5.2778e-01 (4.7646e-01), IOU   0.35 (  0.36), class_name_1: IOU   0.42 (  0.43), class_name_2: IOU   0.31 (  0.33), class_name_3: IOU   0.24 (  0.26), F1 score   0.70 (  0.72), loop_time: 0m 17s\n01-Mar-24 12:00:21 - INFO - EarlyStopping triggered after 5 epochs.\n",
     "output_type": "stream"
    }
   ]
  },
  {
   "cell_type": "markdown",
   "source": [
    "# Load tensorboard"
   ],
   "metadata": {}
  },
  {
   "cell_type": "code",
   "source": [
    "%load_ext tensorboard"
   ],
   "metadata": {
    "id": "5vPiNIN9TcG-",
    "execution": {
     "iopub.status.busy": "2024-03-01T12:00:36.678492Z",
     "iopub.execute_input": "2024-03-01T12:00:36.679213Z",
     "iopub.status.idle": "2024-03-01T12:00:36.698190Z",
     "shell.execute_reply.started": "2024-03-01T12:00:36.679181Z",
     "shell.execute_reply": "2024-03-01T12:00:36.697206Z"
    },
    "trusted": true
   },
   "execution_count": 102,
   "outputs": [
    {
     "name": "stdout",
     "text": "The tensorboard extension is already loaded. To reload it, use:\n  %reload_ext tensorboard\n",
     "output_type": "stream"
    }
   ]
  },
  {
   "cell_type": "code",
   "source": [
    "!kill 4829"
   ],
   "metadata": {
    "execution": {
     "iopub.status.busy": "2024-02-27T13:54:56.831157Z",
     "iopub.execute_input": "2024-02-27T13:54:56.831590Z",
     "iopub.status.idle": "2024-02-27T13:54:57.817398Z",
     "shell.execute_reply.started": "2024-02-27T13:54:56.831559Z",
     "shell.execute_reply": "2024-02-27T13:54:57.816064Z"
    },
    "trusted": true
   },
   "execution_count": null,
   "outputs": []
  },
  {
   "cell_type": "code",
   "source": [
    "%tensorboard --logdir '/kaggle/working/tensorboard/log'"
   ],
   "metadata": {
    "id": "cJT9mSL5TemB",
    "outputId": "2c618021-9947-4916-dd5a-642aa815f0cd",
    "execution": {
     "iopub.status.busy": "2024-03-01T12:00:58.705176Z",
     "iopub.execute_input": "2024-03-01T12:00:58.705824Z",
     "iopub.status.idle": "2024-03-01T12:01:04.243013Z",
     "shell.execute_reply.started": "2024-03-01T12:00:58.705791Z",
     "shell.execute_reply": "2024-03-01T12:01:04.242039Z"
    },
    "trusted": true
   },
   "execution_count": 104,
   "outputs": [
    {
     "output_type": "display_data",
     "data": {
      "text/plain": "<IPython.core.display.HTML object>",
      "text/html": "\n      <iframe id=\"tensorboard-frame-9946b729b04110a8\" width=\"100%\" height=\"800\" frameborder=\"0\">\n      </iframe>\n      <script>\n        (function() {\n          const frame = document.getElementById(\"tensorboard-frame-9946b729b04110a8\");\n          const url = new URL(\"/\", window.location);\n          const port = 6007;\n          if (port) {\n            url.port = port;\n          }\n          frame.src = url;\n        })();\n      </script>\n    "
     },
     "metadata": {}
    }
   ]
  },
  {
   "cell_type": "code",
   "source": [
    "!find '/content/tensorboard/log' | grep tfevents"
   ],
   "metadata": {
    "id": "s7Z69qifdbLu"
   },
   "execution_count": null,
   "outputs": []
  },
  {
   "cell_type": "code",
   "source": [
    "!tensorboard --inspect --logdir '/content/tensorboard/log'"
   ],
   "metadata": {
    "id": "SP9HLdSOdlJK"
   },
   "execution_count": null,
   "outputs": []
  },
  {
   "cell_type": "markdown",
   "source": [
    "# Interact with a git repo"
   ],
   "metadata": {}
  },
  {
   "cell_type": "code",
   "source": [
    "%cd /kaggle/working"
   ],
   "metadata": {
    "id": "ouiXbeLOLGAx",
    "outputId": "174971cf-0a21-4c36-9057-11077ab7d0de",
    "execution": {
     "iopub.status.busy": "2024-02-27T11:03:18.414000Z",
     "iopub.execute_input": "2024-02-27T11:03:18.414554Z",
     "iopub.status.idle": "2024-02-27T11:03:18.443253Z",
     "shell.execute_reply.started": "2024-02-27T11:03:18.414512Z",
     "shell.execute_reply": "2024-02-27T11:03:18.442008Z"
    },
    "trusted": true
   },
   "execution_count": null,
   "outputs": []
  },
  {
   "cell_type": "code",
   "source": [
    "!git restore .\n",
    "!git pull"
   ],
   "metadata": {
    "id": "ZjvlEsQuRLbn",
    "outputId": "e6765bb6-fc75-4ffc-a3fa-239e648b5034",
    "execution": {
     "iopub.status.busy": "2024-02-27T11:03:10.943954Z",
     "iopub.execute_input": "2024-02-27T11:03:10.944710Z",
     "iopub.status.idle": "2024-02-27T11:03:13.888003Z",
     "shell.execute_reply.started": "2024-02-27T11:03:10.944646Z",
     "shell.execute_reply": "2024-02-27T11:03:13.886418Z"
    },
    "trusted": true
   },
   "execution_count": null,
   "outputs": []
  },
  {
   "cell_type": "code",
   "source": [
    "!git status"
   ],
   "metadata": {
    "id": "zLPvQUjyOwiM",
    "outputId": "25551fc6-8454-49f8-f4c5-2d7b788f0779"
   },
   "execution_count": null,
   "outputs": []
  },
  {
   "cell_type": "code",
   "source": [
    "!git diff > /content/diff_rhtr.txt"
   ],
   "metadata": {
    "id": "HKuc8SYXOzul"
   },
   "execution_count": null,
   "outputs": []
  },
  {
   "cell_type": "markdown",
   "source": [
    "# Zip experiments/ and tensorboard/ folders"
   ],
   "metadata": {}
  },
  {
   "cell_type": "code",
   "source": [
    "!zip -r /kaggle/working/experiments.zip /kaggle/working/experiments"
   ],
   "metadata": {
    "execution": {
     "iopub.status.busy": "2024-03-01T12:03:55.194181Z",
     "iopub.execute_input": "2024-03-01T12:03:55.195194Z",
     "iopub.status.idle": "2024-03-01T12:04:08.539293Z",
     "shell.execute_reply.started": "2024-03-01T12:03:55.195150Z",
     "shell.execute_reply": "2024-03-01T12:04:08.538365Z"
    },
    "trusted": true
   },
   "execution_count": 111,
   "outputs": [
    {
     "name": "stdout",
     "text": "  adding: kaggle/working/experiments/ (stored 0%)\n  adding: kaggle/working/experiments/segm/ (stored 0%)\n  adding: kaggle/working/experiments/segm/2024-03-01_11-47-30/ (stored 0%)\n  adding: kaggle/working/experiments/segm/2024-03-01_11-47-30/LinkResNet-6-0.4946.ckpt (deflated 7%)\n  adding: kaggle/working/experiments/segm/2024-03-01_11-47-30/LinkResNet-8-0.4719.ckpt (deflated 7%)\n  adding: kaggle/working/experiments/segm/2024-03-01_11-47-30/output.log (deflated 82%)\n",
     "output_type": "stream"
    }
   ]
  },
  {
   "cell_type": "code",
   "source": [
    "!zip -r /kaggle/working/tensorboard.zip /kaggle/working/tensorboard"
   ],
   "metadata": {
    "execution": {
     "iopub.status.busy": "2024-03-01T12:04:21.736033Z",
     "iopub.execute_input": "2024-03-01T12:04:21.737103Z",
     "iopub.status.idle": "2024-03-01T12:04:22.715756Z",
     "shell.execute_reply.started": "2024-03-01T12:04:21.737057Z",
     "shell.execute_reply": "2024-03-01T12:04:22.714814Z"
    },
    "trusted": true
   },
   "execution_count": 112,
   "outputs": [
    {
     "name": "stdout",
     "text": "  adding: kaggle/working/tensorboard/ (stored 0%)\n  adding: kaggle/working/tensorboard/log/ (stored 0%)\n  adding: kaggle/working/tensorboard/log/2024-03-01_11-47-30/ (stored 0%)\n  adding: kaggle/working/tensorboard/log/2024-03-01_11-47-30/IOU/ (stored 0%)\n  adding: kaggle/working/tensorboard/log/2024-03-01_11-47-30/IOU/val_cls/ (stored 0%)\n  adding: kaggle/working/tensorboard/log/2024-03-01_11-47-30/IOU/val_cls/class_name_2/ (stored 0%)\n  adding: kaggle/working/tensorboard/log/2024-03-01_11-47-30/IOU/val_cls/class_name_2/events.out.tfevents.1709293668.ec1ded4a21ee (deflated 53%)\n  adding: kaggle/working/tensorboard/log/2024-03-01_11-47-30/IOU/val_cls/class_name_1/ (stored 0%)\n  adding: kaggle/working/tensorboard/log/2024-03-01_11-47-30/IOU/val_cls/class_name_1/events.out.tfevents.1709293668.ec1ded4a21ee (deflated 54%)\n  adding: kaggle/working/tensorboard/log/2024-03-01_11-47-30/IOU/val_cls/class_name_3/ (stored 0%)\n  adding: kaggle/working/tensorboard/log/2024-03-01_11-47-30/IOU/val_cls/class_name_3/events.out.tfevents.1709293668.ec1ded4a21ee (deflated 54%)\n  adding: kaggle/working/tensorboard/log/2024-03-01_11-47-30/events.out.tfevents.1709293650.ec1ded4a21ee (deflated 64%)\n",
     "output_type": "stream"
    }
   ]
  },
  {
   "cell_type": "code",
   "source": [
    "!zip -r /kaggle/working/images.zip /kaggle/working/images"
   ],
   "metadata": {
    "execution": {
     "iopub.status.busy": "2024-03-01T12:04:25.589806Z",
     "iopub.execute_input": "2024-03-01T12:04:25.590219Z",
     "iopub.status.idle": "2024-03-01T12:04:26.604765Z",
     "shell.execute_reply.started": "2024-03-01T12:04:25.590188Z",
     "shell.execute_reply": "2024-03-01T12:04:26.603662Z"
    },
    "trusted": true
   },
   "execution_count": 113,
   "outputs": [
    {
     "name": "stdout",
     "text": "  adding: kaggle/working/images/ (stored 0%)\n  adding: kaggle/working/images/0/ (stored 0%)\n  adding: kaggle/working/images/0/pred_1.jpg (deflated 10%)\n  adding: kaggle/working/images/0/pred_0.jpg (deflated 13%)\n  adding: kaggle/working/images/0/thresh_binary.jpg (deflated 10%)\n  adding: kaggle/working/images/0/pred_2.jpg (deflated 14%)\n",
     "output_type": "stream"
    }
   ]
  },
  {
   "cell_type": "code",
   "source": [
    "from IPython.display import FileLink\n",
    "FileLink(r'experiments.zip')"
   ],
   "metadata": {
    "execution": {
     "iopub.status.busy": "2024-03-01T12:03:17.503160Z",
     "iopub.execute_input": "2024-03-01T12:03:17.504169Z",
     "iopub.status.idle": "2024-03-01T12:03:17.523797Z",
     "shell.execute_reply.started": "2024-03-01T12:03:17.504120Z",
     "shell.execute_reply": "2024-03-01T12:03:17.522843Z"
    },
    "trusted": true
   },
   "execution_count": 109,
   "outputs": [
    {
     "execution_count": 109,
     "output_type": "execute_result",
     "data": {
      "text/plain": "/kaggle/working/school_notebooks_RU/targets/experiments.zip",
      "text/html": "<a href='experiments.zip' target='_blank'>experiments.zip</a><br>"
     },
     "metadata": {}
    }
   ]
  },
  {
   "cell_type": "code",
   "source": [],
   "metadata": {},
   "execution_count": null,
   "outputs": []
  }
 ]
}
